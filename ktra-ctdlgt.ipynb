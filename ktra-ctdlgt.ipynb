{
  "nbformat": 4,
  "nbformat_minor": 0,
  "metadata": {
    "colab": {
      "provenance": [],
      "authorship_tag": "ABX9TyNsBAJzLC7vUsfMMxy5rsEo",
      "include_colab_link": true
    },
    "kernelspec": {
      "name": "python3",
      "display_name": "Python 3"
    },
    "language_info": {
      "name": "python"
    }
  },
  "cells": [
    {
      "cell_type": "markdown",
      "metadata": {
        "id": "view-in-github",
        "colab_type": "text"
      },
      "source": [
        "<a href=\"https://colab.research.google.com/github/ysneef/Daisotuyentinhvaungdung/blob/main/ktra-ctdlgt.ipynb\" target=\"_parent\"><img src=\"https://colab.research.google.com/assets/colab-badge.svg\" alt=\"Open In Colab\"/></a>"
      ]
    },
    {
      "cell_type": "code",
      "execution_count": null,
      "metadata": {
        "id": "mBsh8ZN0Kt64"
      },
      "outputs": [],
      "source": [
        "import numpy as np"
      ]
    },
    {
      "cell_type": "code",
      "source": [
        "a = np.random.randint(2, size=(6,6))\n",
        "n=len(a)\n",
        "for i in range(n):\n",
        "    a[i][i]=0\n",
        "for i in range (n):\n",
        "    for j in range (n):\n",
        "        if (a[i][j]== a[j][i]) and (a[i][j]==1):\n",
        "            a[j][i]=0 \n",
        "for i in range (n):\n",
        "    for j in range (n):\n",
        "        if (a[i][j]== 1):\n",
        "            a[i][j]= np.random.randint(10, size=1)\n",
        "print(a)"
      ],
      "metadata": {
        "colab": {
          "base_uri": "https://localhost:8080/"
        },
        "id": "fPwifafyKwug",
        "outputId": "8c9ee72f-0fdf-41c0-9fe5-751e09b3a4eb"
      },
      "execution_count": null,
      "outputs": [
        {
          "output_type": "stream",
          "name": "stdout",
          "text": [
            "[[0 0 2 0 7 7]\n",
            " [0 0 5 0 0 3]\n",
            " [0 0 0 9 3 0]\n",
            " [0 0 0 0 0 4]\n",
            " [0 1 0 0 0 0]\n",
            " [0 0 0 0 0 0]]\n"
          ]
        }
      ]
    }
  ]
}