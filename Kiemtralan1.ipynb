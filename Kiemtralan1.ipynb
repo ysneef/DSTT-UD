{
  "nbformat": 4,
  "nbformat_minor": 0,
  "metadata": {
    "colab": {
      "provenance": [],
      "authorship_tag": "ABX9TyOcYArbDDwLojapKRMCQ0lh",
      "include_colab_link": true
    },
    "kernelspec": {
      "name": "python3",
      "display_name": "Python 3"
    },
    "language_info": {
      "name": "python"
    }
  },
  "cells": [
    {
      "cell_type": "markdown",
      "metadata": {
        "id": "view-in-github",
        "colab_type": "text"
      },
      "source": [
        "<a href=\"https://colab.research.google.com/github/ysneef/Daisotuyentinhvaungdung/blob/main/Kiemtralan1.ipynb\" target=\"_parent\"><img src=\"https://colab.research.google.com/assets/colab-badge.svg\" alt=\"Open In Colab\"/></a>"
      ]
    },
    {
      "cell_type": "markdown",
      "source": [
        "B1"
      ],
      "metadata": {
        "id": "AqDHOglnjOEa"
      }
    },
    {
      "cell_type": "code",
      "execution_count": 3,
      "metadata": {
        "colab": {
          "base_uri": "https://localhost:8080/"
        },
        "id": "UO1Iktqgi0OK",
        "outputId": "fca87324-6f0c-480e-906d-ad96ea510e0a"
      },
      "outputs": [
        {
          "output_type": "execute_result",
          "data": {
            "text/plain": [
              "[{x: -8}, {x: -1}]"
            ]
          },
          "metadata": {},
          "execution_count": 3
        }
      ],
      "source": [
        "from sympy import Symbol, solve\n",
        "x = Symbol(\"x\") \n",
        "ptb2 = x**2 + 9*x +8 \n",
        "solve(ptb2, dict = True)"
      ]
    },
    {
      "cell_type": "markdown",
      "source": [
        "B2"
      ],
      "metadata": {
        "id": "pUO6xcCajRNQ"
      }
    },
    {
      "cell_type": "code",
      "source": [
        "from sympy import Symbol, solve \n",
        "x = Symbol('x') \n",
        "y = Symbol('y') \n",
        "pt1 = 2*x+3*y-12 \n",
        "pt2 = 3*x-2*y-5\n",
        "solve((pt1, pt2), dict=True)\n"
      ],
      "metadata": {
        "colab": {
          "base_uri": "https://localhost:8080/"
        },
        "id": "CDkRxQmJjSsq",
        "outputId": "80d0958c-ca9d-4894-f0fe-05e858fd6ba6"
      },
      "execution_count": 4,
      "outputs": [
        {
          "output_type": "execute_result",
          "data": {
            "text/plain": [
              "[{x: 3, y: 2}]"
            ]
          },
          "metadata": {},
          "execution_count": 4
        }
      ]
    },
    {
      "cell_type": "markdown",
      "source": [
        "B3"
      ],
      "metadata": {
        "id": "0zUdsuzKlz93"
      }
    },
    {
      "cell_type": "code",
      "source": [
        "from sympy import Symbol, solve \n",
        "x = sp.Symbol('x')\n",
        "y = sp.Symbol('y')\n",
        "z = sp.Symbol('z')\n",
        "sp.solve([x*x + 2 - 6,y-1-6,x+z-1,2*x*x-8,z*z+4-5,y-z-8],[x,y,z])"
      ],
      "metadata": {
        "colab": {
          "base_uri": "https://localhost:8080/"
        },
        "id": "RB4CTM3Ll0pX",
        "outputId": "d9d9e66b-ce6b-4800-a7cf-5a2cdc473ced"
      },
      "execution_count": 8,
      "outputs": [
        {
          "output_type": "execute_result",
          "data": {
            "text/plain": [
              "[(2, 7, -1)]"
            ]
          },
          "metadata": {},
          "execution_count": 8
        }
      ]
    },
    {
      "cell_type": "markdown",
      "source": [
        "B4"
      ],
      "metadata": {
        "id": "nLEIrFYwnfou"
      }
    },
    {
      "cell_type": "code",
      "source": [
        "from itertools import permutations\n",
        "import numpy as np\n",
        "\n",
        "def tinhtoan_dinhthuc(A):\n",
        "  X = []\n",
        "  import math\n",
        "  n = int(math.sqrt(A.size))\n",
        "  for i in range(1,n+1):\n",
        "    X.append(i)\n",
        "  Sn=list(permutations(X))\n",
        "  dinhthuc = 0\n",
        "  for sn in Sn:\n",
        "    sigma = np.array([1])\n",
        "    sigma.resize([n])\n",
        "    product = 1\n",
        "    for i in range(1,n+1):\n",
        "      sigma[sn.index(i)]=i\n",
        "      product = product * A[i-1][sn.index(i)]\n",
        "    dau = sgn_by_def(sigma)\n",
        "    if (dau != 1):\n",
        "      product = product * (-1)\n",
        "    dinhthuc = dinhthuc + product\n",
        "  return dinhthuc\n",
        "n = 3 \n",
        "X = []\n",
        "for i in range (1, n+1):\n",
        "  X.append(i) \n",
        "Sn = list(permutations(X))\n",
        "\n",
        "det = 0\n",
        "\n",
        "def phatsinh_dinhthuc(n):\n",
        "  X = []\n",
        "  for i in range(1,n+1):\n",
        "    X.append(i)\n",
        "  Sn = list(permutations(X))\n",
        "  dinhthuc = \"\"\n",
        "  for sn in Sn:\n",
        "    sigma = np.array([1])\n",
        "    sigma.resize([n])\n",
        "    product = \"\"\n",
        "    for i in range(1,n+1):\n",
        "      sigma[sn.index(i)]=i\n",
        "      product = product + \"a\" + str(i)+str(sn.index(i)+1)\n",
        "    dau = sgn_by_def(sigma)\n",
        "    if (dau != 1):\n",
        "      product = \" - \" + product\n",
        "    else:\n",
        "      product = \" + \" + product\n",
        "    dinhthuc = dinhthuc + product\n",
        "  return dinhthuc\n",
        "\n",
        "def tinhtoan_dinhthuc(A):\n",
        "  X = []\n",
        "  import math\n",
        "  n = int(math.sqrt(A.size))\n",
        "  for i in range(1,n+1):\n",
        "    X.append(i)\n",
        "  Sn=list(permutations(X))\n",
        "  dinhthuc = 0\n",
        "  for sn in Sn:\n",
        "    sigma = np.array([1])\n",
        "    sigma.resize([n])\n",
        "    product = 1\n",
        "    for i in range(1,n+1):\n",
        "      sigma[sn.index(i)]=i\n",
        "      product = product * A[i-1][sn.index(i)]\n",
        "    dau = sgn_by_def(sigma)\n",
        "    if (dau != 1):\n",
        "      product = product * (-1)\n",
        "    dinhthuc = dinhthuc + product\n",
        "  return dinhthuc\n",
        "\n",
        "A = np.array([ [3,5,-8], [4, 12, -1], [2,5,3] ])\n",
        "\n",
        "tinhtoan_dinhthuc(A)"
      ],
      "metadata": {
        "colab": {
          "base_uri": "https://localhost:8080/"
        },
        "id": "rr9juUbUqP11",
        "outputId": "7cfa0162-fdb4-41c0-a0b9-978d50895dcc"
      },
      "execution_count": 19,
      "outputs": [
        {
          "output_type": "execute_result",
          "data": {
            "text/plain": [
              "85"
            ]
          },
          "metadata": {},
          "execution_count": 19
        }
      ]
    }
  ]
}