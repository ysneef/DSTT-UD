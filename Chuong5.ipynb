{
  "nbformat": 4,
  "nbformat_minor": 0,
  "metadata": {
    "colab": {
      "provenance": [],
      "authorship_tag": "ABX9TyNGokORDXnvXshw1Aro/u8u",
      "include_colab_link": true
    },
    "kernelspec": {
      "name": "python3",
      "display_name": "Python 3"
    },
    "language_info": {
      "name": "python"
    }
  },
  "cells": [
    {
      "cell_type": "markdown",
      "metadata": {
        "id": "view-in-github",
        "colab_type": "text"
      },
      "source": [
        "<a href=\"https://colab.research.google.com/github/ysneef/Daisotuyentinhvaungdung/blob/main/Chuong5.ipynb\" target=\"_parent\"><img src=\"https://colab.research.google.com/assets/colab-badge.svg\" alt=\"Open In Colab\"/></a>"
      ]
    },
    {
      "cell_type": "markdown",
      "source": [
        "1.\tSử dụng array và matrix trong numpy "
      ],
      "metadata": {
        "id": "0bdwPtMIFQkd"
      }
    },
    {
      "cell_type": "markdown",
      "source": [
        "1.1.\tThông tin tóm gọn "
      ],
      "metadata": {
        "id": "LueKwgjbFVBG"
      }
    },
    {
      "cell_type": "code",
      "source": [
        "import numpy as np"
      ],
      "metadata": {
        "id": "E88Tz4dIFpZ2"
      },
      "execution_count": 4,
      "outputs": []
    },
    {
      "cell_type": "code",
      "execution_count": 7,
      "metadata": {
        "id": "pRH_mA71FOaw"
      },
      "outputs": [],
      "source": [
        "D = np.array([[1,2],[3,4]])\n",
        "np.copyto(E, D) "
      ]
    },
    {
      "cell_type": "code",
      "source": [
        "E = np.array([[1,2],[3,5]]) \n",
        "np.copyto(E, D) "
      ],
      "metadata": {
        "id": "2I5PyIL7FabY"
      },
      "execution_count": 6,
      "outputs": []
    },
    {
      "cell_type": "code",
      "source": [
        "print(E) "
      ],
      "metadata": {
        "colab": {
          "base_uri": "https://localhost:8080/"
        },
        "id": "A9AwDFpDFjtX",
        "outputId": "efb51ef6-ac4e-4fa1-9d42-9514097ecfe4"
      },
      "execution_count": 9,
      "outputs": [
        {
          "output_type": "stream",
          "name": "stdout",
          "text": [
            "[[1 2]\n",
            " [3 4]]\n"
          ]
        }
      ]
    },
    {
      "cell_type": "markdown",
      "source": [
        "1.2.\tNên và không nên sử dụng kiểu dữ liệu numpy.matrix "
      ],
      "metadata": {
        "id": "5UHovoP6GGyD"
      }
    },
    {
      "cell_type": "code",
      "source": [
        "B = np.matrix(\"[1 2 3; 4 5 6]\") \n",
        "x = np.array([['a','b'],['c','d']]) \n",
        "y = 'x'\n",
        "C = np.matrix([[x,y],[1, 2]])\n",
        "print(C)"
      ],
      "metadata": {
        "colab": {
          "base_uri": "https://localhost:8080/"
        },
        "id": "UoxXp8zsGHXn",
        "outputId": "7b06a113-06da-4de2-af3f-bc7b82066b94"
      },
      "execution_count": 24,
      "outputs": [
        {
          "output_type": "stream",
          "name": "stdout",
          "text": [
            "[[array([['a', 'b'],\n",
            "         ['c', 'd']], dtype='<U1') 'x']\n",
            " [1 2]]\n"
          ]
        }
      ]
    },
    {
      "cell_type": "code",
      "source": [
        "A = np.matrix([[[1,2],[3,4]],[[5,6],[7,8]]])"
      ],
      "metadata": {
        "colab": {
          "base_uri": "https://localhost:8080/",
          "height": 287
        },
        "id": "DcmaYitzHa6B",
        "outputId": "03c2b8e2-1577-4ce5-a369-c4cd342694a6"
      },
      "execution_count": 25,
      "outputs": [
        {
          "output_type": "error",
          "ename": "ValueError",
          "evalue": "ignored",
          "traceback": [
            "\u001b[0;31m---------------------------------------------------------------------------\u001b[0m",
            "\u001b[0;31mValueError\u001b[0m                                Traceback (most recent call last)",
            "\u001b[0;32m<ipython-input-25-84d3d74f158c>\u001b[0m in \u001b[0;36m<module>\u001b[0;34m\u001b[0m\n\u001b[0;32m----> 1\u001b[0;31m \u001b[0mA\u001b[0m \u001b[0;34m=\u001b[0m \u001b[0mnp\u001b[0m\u001b[0;34m.\u001b[0m\u001b[0mmatrix\u001b[0m\u001b[0;34m(\u001b[0m\u001b[0;34m[\u001b[0m\u001b[0;34m[\u001b[0m\u001b[0;34m[\u001b[0m\u001b[0;36m1\u001b[0m\u001b[0;34m,\u001b[0m\u001b[0;36m2\u001b[0m\u001b[0;34m]\u001b[0m\u001b[0;34m,\u001b[0m\u001b[0;34m[\u001b[0m\u001b[0;36m3\u001b[0m\u001b[0;34m,\u001b[0m\u001b[0;36m4\u001b[0m\u001b[0;34m]\u001b[0m\u001b[0;34m]\u001b[0m\u001b[0;34m,\u001b[0m\u001b[0;34m[\u001b[0m\u001b[0;34m[\u001b[0m\u001b[0;36m5\u001b[0m\u001b[0;34m,\u001b[0m\u001b[0;36m6\u001b[0m\u001b[0;34m]\u001b[0m\u001b[0;34m,\u001b[0m\u001b[0;34m[\u001b[0m\u001b[0;36m7\u001b[0m\u001b[0;34m,\u001b[0m\u001b[0;36m8\u001b[0m\u001b[0;34m]\u001b[0m\u001b[0;34m]\u001b[0m\u001b[0;34m]\u001b[0m\u001b[0;34m)\u001b[0m\u001b[0;34m\u001b[0m\u001b[0;34m\u001b[0m\u001b[0m\n\u001b[0m",
            "\u001b[0;32m/usr/local/lib/python3.7/dist-packages/numpy/matrixlib/defmatrix.py\u001b[0m in \u001b[0;36m__new__\u001b[0;34m(subtype, data, dtype, copy)\u001b[0m\n\u001b[1;32m    147\u001b[0m         \u001b[0mshape\u001b[0m \u001b[0;34m=\u001b[0m \u001b[0marr\u001b[0m\u001b[0;34m.\u001b[0m\u001b[0mshape\u001b[0m\u001b[0;34m\u001b[0m\u001b[0;34m\u001b[0m\u001b[0m\n\u001b[1;32m    148\u001b[0m         \u001b[0;32mif\u001b[0m \u001b[0;34m(\u001b[0m\u001b[0mndim\u001b[0m \u001b[0;34m>\u001b[0m \u001b[0;36m2\u001b[0m\u001b[0;34m)\u001b[0m\u001b[0;34m:\u001b[0m\u001b[0;34m\u001b[0m\u001b[0;34m\u001b[0m\u001b[0m\n\u001b[0;32m--> 149\u001b[0;31m             \u001b[0;32mraise\u001b[0m \u001b[0mValueError\u001b[0m\u001b[0;34m(\u001b[0m\u001b[0;34m\"matrix must be 2-dimensional\"\u001b[0m\u001b[0;34m)\u001b[0m\u001b[0;34m\u001b[0m\u001b[0;34m\u001b[0m\u001b[0m\n\u001b[0m\u001b[1;32m    150\u001b[0m         \u001b[0;32melif\u001b[0m \u001b[0mndim\u001b[0m \u001b[0;34m==\u001b[0m \u001b[0;36m0\u001b[0m\u001b[0;34m:\u001b[0m\u001b[0;34m\u001b[0m\u001b[0;34m\u001b[0m\u001b[0m\n\u001b[1;32m    151\u001b[0m             \u001b[0mshape\u001b[0m \u001b[0;34m=\u001b[0m \u001b[0;34m(\u001b[0m\u001b[0;36m1\u001b[0m\u001b[0;34m,\u001b[0m \u001b[0;36m1\u001b[0m\u001b[0;34m)\u001b[0m\u001b[0;34m\u001b[0m\u001b[0;34m\u001b[0m\u001b[0m\n",
            "\u001b[0;31mValueError\u001b[0m: matrix must be 2-dimensional"
          ]
        }
      ]
    },
    {
      "cell_type": "code",
      "source": [
        "A = np.array([[[1,2],[3,4]],[[5,6],[7,8]]])    \n",
        "print(A)"
      ],
      "metadata": {
        "colab": {
          "base_uri": "https://localhost:8080/"
        },
        "id": "hDFQJj1PHiCk",
        "outputId": "eb575702-bc33-4977-e1b4-300029f91f6a"
      },
      "execution_count": 26,
      "outputs": [
        {
          "output_type": "stream",
          "name": "stdout",
          "text": [
            "[[[1 2]\n",
            "  [3 4]]\n",
            "\n",
            " [[5 6]\n",
            "  [7 8]]]\n"
          ]
        }
      ]
    },
    {
      "cell_type": "markdown",
      "source": [
        "1.3.\tĐối tượng matrix từ các hàm trong gói numpy.matlib "
      ],
      "metadata": {
        "id": "C6Og02LPHmQA"
      }
    },
    {
      "cell_type": "code",
      "source": [
        "from numpy import matlib\n",
        "G = matlib.identity(5)\n",
        "print(G)   # cú pháp: matlib.identity(n) >>> print (G) "
      ],
      "metadata": {
        "colab": {
          "base_uri": "https://localhost:8080/"
        },
        "id": "QJAqyKXWHmrh",
        "outputId": "0cbbf1a5-e8cc-4b44-cb4f-fdb3bb0bf638"
      },
      "execution_count": 28,
      "outputs": [
        {
          "output_type": "stream",
          "name": "stdout",
          "text": [
            "[[1. 0. 0. 0. 0.]\n",
            " [0. 1. 0. 0. 0.]\n",
            " [0. 0. 1. 0. 0.]\n",
            " [0. 0. 0. 1. 0.]\n",
            " [0. 0. 0. 0. 1.]]\n"
          ]
        }
      ]
    },
    {
      "cell_type": "code",
      "source": [
        "H = matlib.randn(3,2) # cú pháp: matlib.randn(*args) \n",
        "print(H) "
      ],
      "metadata": {
        "colab": {
          "base_uri": "https://localhost:8080/"
        },
        "id": "OwNocVzMHyhq",
        "outputId": "8971af3d-f53c-434d-dc68-f53fdbc0de2d"
      },
      "execution_count": 29,
      "outputs": [
        {
          "output_type": "stream",
          "name": "stdout",
          "text": [
            "[[ 1.51736995 -0.33982492]\n",
            " [ 1.33593819 -1.26212234]\n",
            " [-1.8209754   0.05977798]]\n"
          ]
        }
      ]
    },
    {
      "cell_type": "code",
      "source": [
        "K = matlib.zeros([4,4])  #  cú pháp: matlib.zeros(shape) \n",
        "print(K) "
      ],
      "metadata": {
        "colab": {
          "base_uri": "https://localhost:8080/"
        },
        "id": "mu8X6jPnHyrb",
        "outputId": "85f98ed0-788d-462d-b717-a045adce5137"
      },
      "execution_count": 30,
      "outputs": [
        {
          "output_type": "stream",
          "name": "stdout",
          "text": [
            "[[0. 0. 0. 0.]\n",
            " [0. 0. 0. 0.]\n",
            " [0. 0. 0. 0.]\n",
            " [0. 0. 0. 0.]]\n"
          ]
        }
      ]
    },
    {
      "cell_type": "markdown",
      "source": [
        "2.\tỨng dụng 2 –Liên phân số và số  "
      ],
      "metadata": {
        "id": "4BhF_hkTH5x6"
      }
    },
    {
      "cell_type": "markdown",
      "source": [
        "2.1.\tLiên phân số "
      ],
      "metadata": {
        "id": "56ie3Fv0H6V6"
      }
    },
    {
      "cell_type": "markdown",
      "source": [
        "2.2.\tLiên phân số biểu diễn số  "
      ],
      "metadata": {
        "id": "f2wUxuWJH8Cq"
      }
    },
    {
      "cell_type": "code",
      "source": [
        "import numpy as np \n",
        "c = [3, 7, 15, 1, 292, 1, 1, 1, 2, 1, 3, 1, 14, 2]   # thử chạy nhiều lần với dãy c dài khác nhau! >>> M = np.mat([[1,2],[3,4]])  # khởi tạo ma trận 2x2 \n",
        "for i in range(len(c)): \n",
        "  ci = np.mat([[1,1],[1,0]])\n",
        "  ci[0, 0] = c[i] \n",
        "  if (i==0): \n",
        "    M = ci \n",
        "  else: \n",
        "    M = M.dot(ci) \n",
        "print(M) \n",
        "print (M[0,0]/M[1,0])  # in số Pi theo dãy số  biểu diễn liên phân số. "
      ],
      "metadata": {
        "colab": {
          "base_uri": "https://localhost:8080/"
        },
        "id": "TdFyGCTTH8_R",
        "outputId": "82b67cfb-5c00-44f0-e7b3-e807773b66d3"
      },
      "execution_count": 32,
      "outputs": [
        {
          "output_type": "stream",
          "name": "stdout",
          "text": [
            "[[165707065  80143857]\n",
            " [ 52746197  25510582]]\n",
            "3.1415926535897936\n"
          ]
        }
      ]
    },
    {
      "cell_type": "markdown",
      "source": [
        "3.\tVề phân tích hồi quy tuyến tính "
      ],
      "metadata": {
        "id": "QeZziRwDIQRC"
      }
    },
    {
      "cell_type": "markdown",
      "source": [
        "3.1.\tDẫn nhập: khái niệm về sai số "
      ],
      "metadata": {
        "id": "QCJupevsIRUP"
      }
    },
    {
      "cell_type": "markdown",
      "source": [
        "3.2.\tPhương pháp bình phương cực tiểu (mô hình tuyến tính) "
      ],
      "metadata": {
        "id": "4oNmllFsITNy"
      }
    },
    {
      "cell_type": "code",
      "source": [],
      "metadata": {
        "id": "yK2_ENmjIbKY"
      },
      "execution_count": null,
      "outputs": []
    }
  ]
}