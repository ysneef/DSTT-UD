{
  "nbformat": 4,
  "nbformat_minor": 0,
  "metadata": {
    "colab": {
      "provenance": [],
      "authorship_tag": "ABX9TyMGtwAJxkWm1wLF4RhxTYPe",
      "include_colab_link": true
    },
    "kernelspec": {
      "name": "python3",
      "display_name": "Python 3"
    },
    "language_info": {
      "name": "python"
    }
  },
  "cells": [
    {
      "cell_type": "markdown",
      "metadata": {
        "id": "view-in-github",
        "colab_type": "text"
      },
      "source": [
        "<a href=\"https://colab.research.google.com/github/ysneef/Daisotuyentinhvaungdung/blob/main/chuong3.ipynb\" target=\"_parent\"><img src=\"https://colab.research.google.com/assets/colab-badge.svg\" alt=\"Open In Colab\"/></a>"
      ]
    },
    {
      "cell_type": "markdown",
      "source": [
        "1.1. Một số phép xử lý ma trận của NumPy và Scipy\n",
        "- Khởi tạo ma trận:"
      ],
      "metadata": {
        "id": "bOJELza-UvsE"
      }
    },
    {
      "cell_type": "markdown",
      "source": [
        "Khai báo thêm thư viện scipylinalg và một số các vector khởi tạo: "
      ],
      "metadata": {
        "id": "A1aFSQjkVDDb"
      }
    },
    {
      "cell_type": "code",
      "execution_count": 2,
      "metadata": {
        "id": "YIhW96FxR7t1"
      },
      "outputs": [],
      "source": [
        "from scipy import linalg\n",
        "import numpy as np\n",
        "a = np.array([1, 2, 3])\n",
        "b = np.array([(1+9j, 2j, 3j), (4j, 5j, 6j)]) # số phức\n",
        "c = np.array([[ (0.5, 1.5, 10), (3,2,1) ] , [(6,5,4), (7,8,9)]]) # ma trận số thực "
      ]
    },
    {
      "cell_type": "markdown",
      "source": [
        "Các kiểu khai báo và khởi tạo ma trận: "
      ],
      "metadata": {
        "id": "J1mfQxvJVKRa"
      }
    },
    {
      "cell_type": "code",
      "source": [
        "A = np.matrix(np.random.random( (2,2) ) ) \n",
        "B = np.asmatrix(b) # Chuyển b thành dạng ma trận\n",
        "C = np.mat(np.random.random( (10,5) ) ) \n",
        "D = np.mat([ [4, 3], [2, 6] ])\n",
        "F = np.eye(3, k=1) # tạo ma trận đường chéo. 3 là ma trận 3x3, k=1 là đường chéo nằm phía trên đường chéo chính (k = 0).\n",
        "F"
      ],
      "metadata": {
        "colab": {
          "base_uri": "https://localhost:8080/"
        },
        "id": "GLgRRHPhT41j",
        "outputId": "d2491f1f-1dac-4d5d-add9-52cf6a87aaf2"
      },
      "execution_count": 3,
      "outputs": [
        {
          "output_type": "execute_result",
          "data": {
            "text/plain": [
              "array([[0., 1., 0.],\n",
              "       [0., 0., 1.],\n",
              "       [0., 0., 0.]])"
            ]
          },
          "metadata": {},
          "execution_count": 3
        }
      ]
    },
    {
      "cell_type": "markdown",
      "source": [
        "Thử một số câu lệnh liên quan:"
      ],
      "metadata": {
        "id": "BRqsLuoNVN84"
      }
    },
    {
      "cell_type": "code",
      "source": [
        "F = np.eye(3, k=0)\n",
        "F"
      ],
      "metadata": {
        "colab": {
          "base_uri": "https://localhost:8080/"
        },
        "id": "UZZWH2bPSvi0",
        "outputId": "5b770f67-9fd5-40cc-8979-b661344c7ea7"
      },
      "execution_count": 4,
      "outputs": [
        {
          "output_type": "execute_result",
          "data": {
            "text/plain": [
              "array([[1., 0., 0.],\n",
              "       [0., 1., 0.],\n",
              "       [0., 0., 1.]])"
            ]
          },
          "metadata": {},
          "execution_count": 4
        }
      ]
    },
    {
      "cell_type": "code",
      "source": [
        "F = np.eye(3, k=-1)\n",
        "F"
      ],
      "metadata": {
        "colab": {
          "base_uri": "https://localhost:8080/"
        },
        "id": "imM0sYoESxB4",
        "outputId": "0319263b-16ae-4d91-89d7-8ea40bdd2567"
      },
      "execution_count": 5,
      "outputs": [
        {
          "output_type": "execute_result",
          "data": {
            "text/plain": [
              "array([[0., 0., 0.],\n",
              "       [1., 0., 0.],\n",
              "       [0., 1., 0.]])"
            ]
          },
          "metadata": {},
          "execution_count": 5
        }
      ]
    },
    {
      "cell_type": "markdown",
      "source": [
        "- Các phép xử lý đơn giản "
      ],
      "metadata": {
        "id": "49Zpp8FEWK0-"
      }
    },
    {
      "cell_type": "code",
      "source": [
        "# Xem hạng ma trận:\n",
        "np.linalg.matrix_rank(C) "
      ],
      "metadata": {
        "colab": {
          "base_uri": "https://localhost:8080/"
        },
        "id": "wG1BimZiSy5l",
        "outputId": "2442a152-9998-436f-9819-3450aa30547a"
      },
      "execution_count": 6,
      "outputs": [
        {
          "output_type": "execute_result",
          "data": {
            "text/plain": [
              "5"
            ]
          },
          "metadata": {},
          "execution_count": 6
        }
      ]
    },
    {
      "cell_type": "code",
      "source": [
        "# Tính ma trận nghịch đảo: \n",
        "A.I"
      ],
      "metadata": {
        "colab": {
          "base_uri": "https://localhost:8080/"
        },
        "id": "x6JEvbOYTG2U",
        "outputId": "0aaf0a1c-bacd-4d66-cdba-477c1e59a613"
      },
      "execution_count": null,
      "outputs": [
        {
          "output_type": "execute_result",
          "data": {
            "text/plain": [
              "matrix([[-2.85313535,  3.74684485],\n",
              "        [ 6.47242683, -2.7166373 ]])"
            ]
          },
          "metadata": {},
          "execution_count": 21
        }
      ]
    },
    {
      "cell_type": "code",
      "source": [
        "linalg.inv(A) # đây là lệnh của gói scipy, nên có thể sử dụng scipy.linalg.inv(A)"
      ],
      "metadata": {
        "colab": {
          "base_uri": "https://localhost:8080/"
        },
        "id": "Ae3u8fRuTJM-",
        "outputId": "ad3c894b-e365-4a93-aaa6-0fe2f2dea05c"
      },
      "execution_count": 7,
      "outputs": [
        {
          "output_type": "execute_result",
          "data": {
            "text/plain": [
              "array([[-4.13697295,  2.48765292],\n",
              "       [15.5680484 , -3.62266648]])"
            ]
          },
          "metadata": {},
          "execution_count": 7
        }
      ]
    },
    {
      "cell_type": "code",
      "source": [
        "# Định thức ma trận: \n",
        "linalg.det(A)"
      ],
      "metadata": {
        "colab": {
          "base_uri": "https://localhost:8080/"
        },
        "id": "69SVJc3ZTLb8",
        "outputId": "76e0610b-9b59-4dfe-db62-41bc2cb68277"
      },
      "execution_count": 8,
      "outputs": [
        {
          "output_type": "execute_result",
          "data": {
            "text/plain": [
              "-0.04212117552157913"
            ]
          },
          "metadata": {},
          "execution_count": 8
        }
      ]
    },
    {
      "cell_type": "code",
      "source": [
        "# Chuyển đổi ma trận: \n",
        "A.T #chuyển vị (dòng <=> cột)"
      ],
      "metadata": {
        "id": "9F4gKujqUjh2",
        "outputId": "2a932240-6889-4dc5-9314-9a0cb957e43d",
        "colab": {
          "base_uri": "https://localhost:8080/"
        }
      },
      "execution_count": 9,
      "outputs": [
        {
          "output_type": "execute_result",
          "data": {
            "text/plain": [
              "matrix([[0.15259097, 0.6557445 ],\n",
              "        [0.10478287, 0.17425416]])"
            ]
          },
          "metadata": {},
          "execution_count": 9
        }
      ]
    },
    {
      "cell_type": "code",
      "source": [
        "# Chuyển đổi ma trận: \n",
        "A.H # chuyển vị liên hợp "
      ],
      "metadata": {
        "id": "ByEyALcAUo7h",
        "outputId": "430cc21d-25fd-4bd9-c323-a8e5602d006b",
        "colab": {
          "base_uri": "https://localhost:8080/"
        }
      },
      "execution_count": 10,
      "outputs": [
        {
          "output_type": "execute_result",
          "data": {
            "text/plain": [
              "matrix([[0.15259097, 0.6557445 ],\n",
              "        [0.10478287, 0.17425416]])"
            ]
          },
          "metadata": {},
          "execution_count": 10
        }
      ]
    },
    {
      "cell_type": "markdown",
      "source": [
        "-  Giải các loại phương trình tuyến tính: "
      ],
      "metadata": {
        "id": "DVMeTBuyWvsW"
      }
    },
    {
      "cell_type": "code",
      "source": [
        "linalg.solve(A, b) "
      ],
      "metadata": {
        "id": "f2masjr2Urce",
        "outputId": "015d6999-d503-4ad9-ade3-b3edd433267c",
        "colab": {
          "base_uri": "https://localhost:8080/"
        }
      },
      "execution_count": 11,
      "outputs": [
        {
          "output_type": "execute_result",
          "data": {
            "text/plain": [
              "array([[-4.13697295 -27.28214486j,  0.          +4.1643187j ,\n",
              "         0.          +2.51499867j],\n",
              "       [15.5680484 +125.62176967j,  0.         +13.02276439j,\n",
              "         0.         +24.96814631j]])"
            ]
          },
          "metadata": {},
          "execution_count": 11
        }
      ]
    },
    {
      "cell_type": "code",
      "source": [
        "E = np.mat(a).T \n",
        "E"
      ],
      "metadata": {
        "id": "ceuTJn7hWy9H",
        "outputId": "e9e93b94-4088-4afa-a6c9-039210dbeaa1",
        "colab": {
          "base_uri": "https://localhost:8080/"
        }
      },
      "execution_count": 12,
      "outputs": [
        {
          "output_type": "execute_result",
          "data": {
            "text/plain": [
              "matrix([[1],\n",
              "        [2],\n",
              "        [3]])"
            ]
          },
          "metadata": {},
          "execution_count": 12
        }
      ]
    },
    {
      "cell_type": "code",
      "source": [
        "linalg.lstsq(F, E) "
      ],
      "metadata": {
        "id": "r3TkiME6W4p_",
        "outputId": "47bef87d-9c2b-461a-8a50-b5a6439f715c",
        "colab": {
          "base_uri": "https://localhost:8080/"
        }
      },
      "execution_count": 13,
      "outputs": [
        {
          "output_type": "execute_result",
          "data": {
            "text/plain": [
              "(array([[2.],\n",
              "        [3.],\n",
              "        [0.]]), array([], dtype=float64), 2, array([1., 1., 0.]))"
            ]
          },
          "metadata": {},
          "execution_count": 13
        }
      ]
    },
    {
      "cell_type": "markdown",
      "source": [
        "- Các hàm trên ma trận "
      ],
      "metadata": {
        "id": "ordYRSM8W9fF"
      }
    },
    {
      "cell_type": "markdown",
      "source": [
        "Giới thiệu một số hàm trên ma trận. Các bạn sinh viên thực tập trên ma trận A và D khai\n",
        "báo bên trên: "
      ],
      "metadata": {
        "id": "UnFhL7B7W_uO"
      }
    },
    {
      "cell_type": "code",
      "source": [
        "# Cộng ma trận:\n",
        "np.add(A, D) "
      ],
      "metadata": {
        "id": "WQs6bzn8XBa1",
        "outputId": "2d453850-9ba3-4fec-bba6-9a1cf2cc6b86",
        "colab": {
          "base_uri": "https://localhost:8080/"
        }
      },
      "execution_count": 14,
      "outputs": [
        {
          "output_type": "execute_result",
          "data": {
            "text/plain": [
              "matrix([[4.15259097, 3.10478287],\n",
              "        [2.6557445 , 6.17425416]])"
            ]
          },
          "metadata": {},
          "execution_count": 14
        }
      ]
    },
    {
      "cell_type": "code",
      "source": [
        "# Trừ ma trận:\n",
        "np.subtract(A, D) "
      ],
      "metadata": {
        "id": "VG-f2ySsXHIf",
        "outputId": "a08ce780-b7f2-4e67-8ff6-6df4e704d795",
        "colab": {
          "base_uri": "https://localhost:8080/"
        }
      },
      "execution_count": 16,
      "outputs": [
        {
          "output_type": "execute_result",
          "data": {
            "text/plain": [
              "matrix([[-3.84740903, -2.89521713],\n",
              "        [-1.3442555 , -5.82574584]])"
            ]
          },
          "metadata": {},
          "execution_count": 16
        }
      ]
    },
    {
      "cell_type": "code",
      "source": [
        "# Chia ma trận: \n",
        "np.divide(A, D) "
      ],
      "metadata": {
        "id": "YKm4r5tJXLYn",
        "outputId": "20656487-3be0-4664-d9d9-94dd80be2086",
        "colab": {
          "base_uri": "https://localhost:8080/"
        }
      },
      "execution_count": 15,
      "outputs": [
        {
          "output_type": "execute_result",
          "data": {
            "text/plain": [
              "matrix([[0.03814774, 0.03492762],\n",
              "        [0.32787225, 0.02904236]])"
            ]
          },
          "metadata": {},
          "execution_count": 15
        }
      ]
    },
    {
      "cell_type": "code",
      "source": [
        "# Nhân ma trận: \n",
        "A @ D # phiên bản Python 3.x"
      ],
      "metadata": {
        "id": "ayxiZqxUXPqU",
        "outputId": "17aa74d6-f287-4125-ea56-8c632901882f",
        "colab": {
          "base_uri": "https://localhost:8080/"
        }
      },
      "execution_count": 17,
      "outputs": [
        {
          "output_type": "execute_result",
          "data": {
            "text/plain": [
              "matrix([[0.81992961, 1.0864701 ],\n",
              "        [2.97148632, 3.01275848]])"
            ]
          },
          "metadata": {},
          "execution_count": 17
        }
      ]
    },
    {
      "cell_type": "code",
      "source": [
        "np.multiply(D, A) "
      ],
      "metadata": {
        "id": "N-9DUu2RXTJO",
        "outputId": "a4c68c52-eb11-42d4-fa6d-ea7c51c49614",
        "colab": {
          "base_uri": "https://localhost:8080/"
        }
      },
      "execution_count": 18,
      "outputs": [
        {
          "output_type": "execute_result",
          "data": {
            "text/plain": [
              "matrix([[0.61036388, 0.3143486 ],\n",
              "        [1.311489  , 1.04552498]])"
            ]
          },
          "metadata": {},
          "execution_count": 18
        }
      ]
    },
    {
      "cell_type": "code",
      "source": [
        "np.dot(A, D) "
      ],
      "metadata": {
        "id": "dOuj_SN2XU6t",
        "outputId": "eb54a7d6-254a-479e-a1f3-0bcf9e8870cc",
        "colab": {
          "base_uri": "https://localhost:8080/"
        }
      },
      "execution_count": 19,
      "outputs": [
        {
          "output_type": "execute_result",
          "data": {
            "text/plain": [
              "matrix([[0.81992961, 1.0864701 ],\n",
              "        [2.97148632, 3.01275848]])"
            ]
          },
          "metadata": {},
          "execution_count": 19
        }
      ]
    },
    {
      "cell_type": "code",
      "source": [
        "np.vdot(A, D) "
      ],
      "metadata": {
        "id": "rh740B7IXW7M",
        "outputId": "9348327a-e5e0-48e3-bafa-930d36c075c1",
        "colab": {
          "base_uri": "https://localhost:8080/"
        }
      },
      "execution_count": 20,
      "outputs": [
        {
          "output_type": "execute_result",
          "data": {
            "text/plain": [
              "matrix([[0.61036388]])"
            ]
          },
          "metadata": {},
          "execution_count": 20
        }
      ]
    },
    {
      "cell_type": "markdown",
      "source": [
        "Hàm lũy thừa và logarith ma trận: "
      ],
      "metadata": {
        "id": "DMNwQZjmXaJ8"
      }
    },
    {
      "cell_type": "code",
      "source": [
        "linalg.expm(A) "
      ],
      "metadata": {
        "id": "xpEYmPvAXbb3",
        "outputId": "3e320112-6d3c-4cc6-88e6-1cc99f7a09f6",
        "colab": {
          "base_uri": "https://localhost:8080/"
        }
      },
      "execution_count": 21,
      "outputs": [
        {
          "output_type": "execute_result",
          "data": {
            "text/plain": [
              "array([[1.20538947, 0.12480568],\n",
              "       [0.78104983, 1.23119225]])"
            ]
          },
          "metadata": {},
          "execution_count": 21
        }
      ]
    },
    {
      "cell_type": "code",
      "source": [
        "linalg.logm(A)"
      ],
      "metadata": {
        "id": "iW5saEqdXcyJ",
        "outputId": "aeabdd52-4f32-4403-b8e9-1a68ef882656",
        "colab": {
          "base_uri": "https://localhost:8080/"
        }
      },
      "execution_count": 22,
      "outputs": [
        {
          "output_type": "execute_result",
          "data": {
            "text/plain": [
              "array([[-1.61373147+1.63564923j,  0.29146367-0.62737502j],\n",
              "       [ 1.82401675-3.92619267j, -1.55347321+1.50594342j]])"
            ]
          },
          "metadata": {},
          "execution_count": 22
        }
      ]
    },
    {
      "cell_type": "markdown",
      "source": [
        "2. Tích (nhân) ma trận với ma trận"
      ],
      "metadata": {
        "id": "8cxsQVN9Xgd3"
      }
    },
    {
      "cell_type": "markdown",
      "source": [
        "2.1. Nhân ma trận "
      ],
      "metadata": {
        "id": "YDS2406yXiRv"
      }
    },
    {
      "cell_type": "markdown",
      "source": [
        "2.2. Ma trận khả nghịch "
      ],
      "metadata": {
        "id": "Ga1wdVKRXl81"
      }
    },
    {
      "cell_type": "markdown",
      "source": [
        "2.3. Ma trận hội tụ"
      ],
      "metadata": {
        "id": "VyYkEnrdXnTQ"
      }
    },
    {
      "cell_type": "markdown",
      "source": [
        "Ma trận phân kỳ:"
      ],
      "metadata": {
        "id": "GA7IhyQkXpAM"
      }
    },
    {
      "cell_type": "code",
      "source": [
        " import numpy as np\n",
        " # Tính ma trận A:\n",
        "A = np.array([ [0,1], [1,0]]) \n",
        "print(A) "
      ],
      "metadata": {
        "id": "f0pI1J6fXrRG",
        "outputId": "767cd45a-91de-452a-d21c-46c184cad327",
        "colab": {
          "base_uri": "https://localhost:8080/"
        }
      },
      "execution_count": 23,
      "outputs": [
        {
          "output_type": "stream",
          "name": "stdout",
          "text": [
            "[[0 1]\n",
            " [1 0]]\n"
          ]
        }
      ]
    },
    {
      "cell_type": "code",
      "source": [
        "temp = A.dot(A) # tính toan lần thứ 1 \n",
        "print(temp) "
      ],
      "metadata": {
        "id": "pgQD0vyiXzuk",
        "outputId": "782bb286-39b9-4922-b22c-b9281ac2b880",
        "colab": {
          "base_uri": "https://localhost:8080/"
        }
      },
      "execution_count": 24,
      "outputs": [
        {
          "output_type": "stream",
          "name": "stdout",
          "text": [
            "[[1 0]\n",
            " [0 1]]\n"
          ]
        }
      ]
    },
    {
      "cell_type": "code",
      "source": [
        "k= 6\n",
        "for i in range(k-1):\n",
        " temp = temp.dot(A)\n",
        " print (temp)\n",
        " print('---')"
      ],
      "metadata": {
        "id": "yQbJhX7bX29O",
        "outputId": "aef991cd-f7b2-44a1-c3f1-29c95e8e64e1",
        "colab": {
          "base_uri": "https://localhost:8080/"
        }
      },
      "execution_count": 25,
      "outputs": [
        {
          "output_type": "stream",
          "name": "stdout",
          "text": [
            "[[0 1]\n",
            " [1 0]]\n",
            "---\n",
            "[[1 0]\n",
            " [0 1]]\n",
            "---\n",
            "[[0 1]\n",
            " [1 0]]\n",
            "---\n",
            "[[1 0]\n",
            " [0 1]]\n",
            "---\n",
            "[[0 1]\n",
            " [1 0]]\n",
            "---\n"
          ]
        }
      ]
    },
    {
      "cell_type": "code",
      "source": [
        "# Tính ma trận B: \n",
        "B = np.array([ [0,-1], [-1,0]]) \n",
        "print(B) "
      ],
      "metadata": {
        "id": "jbISmuA0YGcV",
        "outputId": "05188999-7bd2-480e-b744-8ca2315617a6",
        "colab": {
          "base_uri": "https://localhost:8080/"
        }
      },
      "execution_count": 26,
      "outputs": [
        {
          "output_type": "stream",
          "name": "stdout",
          "text": [
            "[[ 0 -1]\n",
            " [-1  0]]\n"
          ]
        }
      ]
    },
    {
      "cell_type": "code",
      "source": [
        "temp = B.dot(B) # tính toan lần thứ 1\n",
        "print(temp) "
      ],
      "metadata": {
        "id": "1plzPjRwYLxn",
        "outputId": "67341a57-0762-446f-ba83-8bd5db8c3905",
        "colab": {
          "base_uri": "https://localhost:8080/"
        }
      },
      "execution_count": 27,
      "outputs": [
        {
          "output_type": "stream",
          "name": "stdout",
          "text": [
            "[[1 0]\n",
            " [0 1]]\n"
          ]
        }
      ]
    },
    {
      "cell_type": "code",
      "source": [
        "k= 5\n",
        "for i in range(k-1):\n",
        " temp = temp.dot(B)\n",
        " print (temp)\n",
        " print('---')"
      ],
      "metadata": {
        "id": "4zRbQBZPYPCj",
        "outputId": "0a06d9aa-9c48-40e2-bccb-87b48b478448",
        "colab": {
          "base_uri": "https://localhost:8080/"
        }
      },
      "execution_count": 28,
      "outputs": [
        {
          "output_type": "stream",
          "name": "stdout",
          "text": [
            "[[ 0 -1]\n",
            " [-1  0]]\n",
            "---\n",
            "[[1 0]\n",
            " [0 1]]\n",
            "---\n",
            "[[ 0 -1]\n",
            " [-1  0]]\n",
            "---\n",
            "[[1 0]\n",
            " [0 1]]\n",
            "---\n"
          ]
        }
      ]
    },
    {
      "cell_type": "markdown",
      "source": [
        "Ma trận hội tụ - Convergent matrix:"
      ],
      "metadata": {
        "id": "vtUza62gYSTu"
      }
    },
    {
      "cell_type": "code",
      "source": [
        "C = np.array([ [1, 0, 0], [0, 0.5, 1], [0, 0, 0.5] ]) \n",
        "print(C) "
      ],
      "metadata": {
        "id": "cSTcksQcYS4r",
        "outputId": "30ba06cc-732b-48f4-83f8-c38dd0a5371b",
        "colab": {
          "base_uri": "https://localhost:8080/"
        }
      },
      "execution_count": 29,
      "outputs": [
        {
          "output_type": "stream",
          "name": "stdout",
          "text": [
            "[[1.  0.  0. ]\n",
            " [0.  0.5 1. ]\n",
            " [0.  0.  0.5]]\n"
          ]
        }
      ]
    },
    {
      "cell_type": "code",
      "source": [
        "temp = C.dot(C) # tính toan lần thứ 1\n",
        "print(temp) "
      ],
      "metadata": {
        "id": "twqLEBigYYpl",
        "outputId": "2d61cf2f-eb83-4393-ecad-11aed0252467",
        "colab": {
          "base_uri": "https://localhost:8080/"
        }
      },
      "execution_count": 30,
      "outputs": [
        {
          "output_type": "stream",
          "name": "stdout",
          "text": [
            "[[1.   0.   0.  ]\n",
            " [0.   0.25 1.  ]\n",
            " [0.   0.   0.25]]\n"
          ]
        }
      ]
    },
    {
      "cell_type": "code",
      "source": [
        "k= 1000\n",
        "for i in range(k-1):\n",
        "  temp = temp.dot(C)\n",
        "print(temp)"
      ],
      "metadata": {
        "id": "uHS2v0nYYbCb",
        "outputId": "2e4e0108-5d5d-4185-a177-6ab151bf9421",
        "colab": {
          "base_uri": "https://localhost:8080/"
        }
      },
      "execution_count": 31,
      "outputs": [
        {
          "output_type": "stream",
          "name": "stdout",
          "text": [
            "[[1.00000000e+000 0.00000000e+000 0.00000000e+000]\n",
            " [0.00000000e+000 4.66631809e-302 9.34196882e-299]\n",
            " [0.00000000e+000 0.00000000e+000 4.66631809e-302]]\n"
          ]
        }
      ]
    },
    {
      "cell_type": "code",
      "source": [
        "k= 1000\n",
        "for i in range(k-1):\n",
        " temp = temp.dot(C)\n",
        "print(temp) "
      ],
      "metadata": {
        "id": "FDrj2uC0lSOB",
        "outputId": "c802a648-4a8f-45fe-ea1d-3ebf3de84599",
        "colab": {
          "base_uri": "https://localhost:8080/"
        }
      },
      "execution_count": 32,
      "outputs": [
        {
          "output_type": "stream",
          "name": "stdout",
          "text": [
            "[[1. 0. 0.]\n",
            " [0. 0. 0.]\n",
            " [0. 0. 0.]]\n"
          ]
        }
      ]
    },
    {
      "cell_type": "markdown",
      "source": [
        "2.4\tMa trận Markov "
      ],
      "metadata": {
        "id": "hBg6bXSylz52"
      }
    },
    {
      "cell_type": "code",
      "source": [
        "M = np.array([ [0.8, 0.3], [0.2, 0.7]])\n",
        "MM = M.dot(M) # tính M2, nghĩa là M2\n",
        "print (MM) "
      ],
      "metadata": {
        "id": "yo4CHCwYl22p",
        "outputId": "11fa0fd8-0d21-4c7c-a23b-763b0729d476",
        "colab": {
          "base_uri": "https://localhost:8080/"
        }
      },
      "execution_count": 33,
      "outputs": [
        {
          "output_type": "stream",
          "name": "stdout",
          "text": [
            "[[0.7  0.45]\n",
            " [0.3  0.55]]\n"
          ]
        }
      ]
    },
    {
      "cell_type": "code",
      "source": [
        "MM = M.dot(M) # tính M3\n",
        "print (MM)"
      ],
      "metadata": {
        "id": "KKTejuWzl_yu",
        "outputId": "557b3330-6398-4831-efea-3d283963d8ba",
        "colab": {
          "base_uri": "https://localhost:8080/"
        }
      },
      "execution_count": 34,
      "outputs": [
        {
          "output_type": "stream",
          "name": "stdout",
          "text": [
            "[[0.7  0.45]\n",
            " [0.3  0.55]]\n"
          ]
        }
      ]
    },
    {
      "cell_type": "code",
      "source": [
        "for i in range(100): # tính các M^ khác.\n",
        " MM = MM.dot(M)\n",
        "print (MM) # kết luận xu hướng của jb"
      ],
      "metadata": {
        "id": "SM-_AObymJht",
        "outputId": "7824d085-7399-4129-b718-9db6c9cd00ac",
        "colab": {
          "base_uri": "https://localhost:8080/"
        }
      },
      "execution_count": 35,
      "outputs": [
        {
          "output_type": "stream",
          "name": "stdout",
          "text": [
            "[[0.6 0.6]\n",
            " [0.4 0.4]]\n"
          ]
        }
      ]
    },
    {
      "cell_type": "markdown",
      "source": [
        "3. Phương trình ma trận"
      ],
      "metadata": {
        "id": "8z3uhoFemPdw"
      }
    },
    {
      "cell_type": "markdown",
      "source": [
        "3.1. Khái niệm về tách ma trận "
      ],
      "metadata": {
        "id": "ZFFH4FJnmQA9"
      }
    },
    {
      "cell_type": "markdown",
      "source": [
        "3.2. Phân rã ma trận LU"
      ],
      "metadata": {
        "id": "ZLx8mOB7mTYp"
      }
    },
    {
      "cell_type": "code",
      "source": [
        "M = np.array([ [0.8, 0.3], [0.2, 0.7]])\n",
        "P, L, U = linalg.lu(M) # lệnh lina.lu sẽ tách ma trận M thành 3 ma trận P, L và U\n",
        "print (P)"
      ],
      "metadata": {
        "id": "F1JeFrp4mVZf",
        "outputId": "389b4fe4-a8d2-4a00-8a85-5bf401b52b37",
        "colab": {
          "base_uri": "https://localhost:8080/"
        }
      },
      "execution_count": 36,
      "outputs": [
        {
          "output_type": "stream",
          "name": "stdout",
          "text": [
            "[[1. 0.]\n",
            " [0. 1.]]\n"
          ]
        }
      ]
    },
    {
      "cell_type": "code",
      "source": [
        "print (L)"
      ],
      "metadata": {
        "id": "FFE-5lYpmZjd",
        "outputId": "3b0bcf71-54da-4921-c943-12a2871f1910",
        "colab": {
          "base_uri": "https://localhost:8080/"
        }
      },
      "execution_count": 37,
      "outputs": [
        {
          "output_type": "stream",
          "name": "stdout",
          "text": [
            "[[1.   0.  ]\n",
            " [0.25 1.  ]]\n"
          ]
        }
      ]
    },
    {
      "cell_type": "code",
      "source": [
        "print (U)"
      ],
      "metadata": {
        "id": "ipX18LglmZrX",
        "outputId": "a35f9d33-bf45-40d9-ac75-c5e8a58eccaa",
        "colab": {
          "base_uri": "https://localhost:8080/"
        }
      },
      "execution_count": 40,
      "outputs": [
        {
          "output_type": "stream",
          "name": "stdout",
          "text": [
            "[[0.8   0.3  ]\n",
            " [0.    0.625]]\n"
          ]
        }
      ]
    },
    {
      "cell_type": "code",
      "source": [
        "L.dot(U) "
      ],
      "metadata": {
        "id": "4xZXC8ymmzso",
        "outputId": "a96614ae-ac27-4d99-8b1d-121df541f6bd",
        "colab": {
          "base_uri": "https://localhost:8080/"
        }
      },
      "execution_count": 41,
      "outputs": [
        {
          "output_type": "execute_result",
          "data": {
            "text/plain": [
              "array([[0.8, 0.3],\n",
              "       [0.2, 0.7]])"
            ]
          },
          "metadata": {},
          "execution_count": 41
        }
      ]
    },
    {
      "cell_type": "markdown",
      "source": [
        "4. Bài toán ứng dụng 1 – Căn bản về mật mã học, mã hóa thông tin, mật khẩu "
      ],
      "metadata": {
        "id": "ue2lkhQFm2AS"
      }
    },
    {
      "cell_type": "markdown",
      "source": [
        "5. Bài toán ứng dụng 2 – Bài toán loan tin"
      ],
      "metadata": {
        "id": "mp6WqsItm4Nj"
      }
    },
    {
      "cell_type": "code",
      "source": [
        "A = np.array([ [0,1,0,1],[0,0,1,0],[1,0,0,1],[1,1,0,0]])\n",
        "temp = A.dot(A) # lúc này temp = A^22\n",
        "print(temp) "
      ],
      "metadata": {
        "id": "oHJseT65m6YT",
        "outputId": "db72ec92-6226-4711-e5f7-96a141c93304",
        "colab": {
          "base_uri": "https://localhost:8080/"
        }
      },
      "execution_count": 42,
      "outputs": [
        {
          "output_type": "stream",
          "name": "stdout",
          "text": [
            "[[1 1 1 0]\n",
            " [1 0 0 1]\n",
            " [1 2 0 1]\n",
            " [0 1 1 1]]\n"
          ]
        }
      ]
    },
    {
      "cell_type": "code",
      "source": [
        "temp = temp.dot(A) # lúc này temp = A^33\n",
        "print(temp) "
      ],
      "metadata": {
        "id": "TFhr2zaEnEs-",
        "outputId": "e7b72c9b-937e-469f-ee77-9105e342bde8",
        "colab": {
          "base_uri": "https://localhost:8080/"
        }
      },
      "execution_count": 43,
      "outputs": [
        {
          "output_type": "stream",
          "name": "stdout",
          "text": [
            "[[1 1 1 2]\n",
            " [1 2 0 1]\n",
            " [1 2 2 1]\n",
            " [2 1 1 1]]\n"
          ]
        }
      ]
    },
    {
      "cell_type": "code",
      "source": [
        "A = np.array([ [0,1,0,1],[0,0,1,0],[1,0,0,1],[1,1,0,0]])\n",
        "sumA = A\n",
        "temp = A.dot(A)\n",
        "k = 3\n",
        "sumA = sumA + temp\n",
        "for i in range(1, k-1):\n",
        " temp = temp.dot(A)\n",
        " sumA = sumA + temp\n",
        "print (temp)\n",
        "print (sumA)"
      ],
      "metadata": {
        "id": "e-WxisA1nMhS",
        "outputId": "5da0c32c-9b4c-481b-fc33-4266045ae74c",
        "colab": {
          "base_uri": "https://localhost:8080/"
        }
      },
      "execution_count": 44,
      "outputs": [
        {
          "output_type": "stream",
          "name": "stdout",
          "text": [
            "[[1 1 1 2]\n",
            " [1 2 0 1]\n",
            " [1 2 2 1]\n",
            " [2 1 1 1]]\n",
            "[[2 3 2 3]\n",
            " [2 2 1 2]\n",
            " [3 4 2 3]\n",
            " [3 3 2 2]]\n"
          ]
        }
      ]
    }
  ]
}
