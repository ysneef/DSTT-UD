{
  "nbformat": 4,
  "nbformat_minor": 0,
  "metadata": {
    "colab": {
      "provenance": [],
      "authorship_tag": "ABX9TyPmiy5y15ETNGxnwOGLgFVf",
      "include_colab_link": true
    },
    "kernelspec": {
      "name": "python3",
      "display_name": "Python 3"
    },
    "language_info": {
      "name": "python"
    }
  },
  "cells": [
    {
      "cell_type": "markdown",
      "metadata": {
        "id": "view-in-github",
        "colab_type": "text"
      },
      "source": [
        "<a href=\"https://colab.research.google.com/github/ysneef/Daisotuyentinhvaungdung/blob/main/Chuong3.ipynb\" target=\"_parent\"><img src=\"https://colab.research.google.com/assets/colab-badge.svg\" alt=\"Open In Colab\"/></a>"
      ]
    },
    {
      "cell_type": "code",
      "execution_count": null,
      "metadata": {
        "id": "YIhW96FxR7t1"
      },
      "outputs": [],
      "source": [
        "from scipy import linalg\n",
        "import numpy as np\n",
        "  a = np.array([1, 2, 3])\n",
        "  b = np.array([(1+9j, 2j, 3j), (4j, 5j, 6j)]) # số phức\n",
        "  c = np.array([[ (0.5, 1.5, 10), (3,2,1) ] , [(6,5,4), (7,8,9)]]) # ma trận số thực "
      ]
    },
    {
      "cell_type": "code",
      "source": [
        "A = np.matrix(np.random.random( (2,2) ) ) \n",
        "B = np.asmatrix(b) # Chuyển b thành dạng ma trận\n",
        "C = np.mat(np.random.random( (10,5) ) ) \n",
        "D = np.mat([ [4, 3], [2, 6] ])\n",
        "F = np.eye(3, k=1) # tạo ma trận đường chéo. 3 là ma trận 3x3, k=1 là đường chéo nằm phía trên đường chéo chính (k = 0).\n",
        "print(F)"
      ],
      "metadata": {
        "id": "GLgRRHPhT41j"
      },
      "execution_count": null,
      "outputs": []
    },
    {
      "cell_type": "code",
      "source": [
        "F = np.eye(3, k=0) "
      ],
      "metadata": {
        "id": "UZZWH2bPSvi0"
      },
      "execution_count": null,
      "outputs": []
    },
    {
      "cell_type": "code",
      "source": [
        "F = np.eye(3, k=-1) "
      ],
      "metadata": {
        "id": "imM0sYoESxB4"
      },
      "execution_count": null,
      "outputs": []
    },
    {
      "cell_type": "code",
      "source": [
        "np.linalg.matrix_rank(C) "
      ],
      "metadata": {
        "id": "wG1BimZiSy5l"
      },
      "execution_count": null,
      "outputs": []
    },
    {
      "cell_type": "code",
      "source": [
        "A.I"
      ],
      "metadata": {
        "id": "x6JEvbOYTG2U"
      },
      "execution_count": null,
      "outputs": []
    },
    {
      "cell_type": "code",
      "source": [
        "linalg.inv(A) # đây là lệnh của gói scipy, nên có thể sử dụng scipy.linalg.inv(A)"
      ],
      "metadata": {
        "id": "Ae3u8fRuTJM-"
      },
      "execution_count": null,
      "outputs": []
    },
    {
      "cell_type": "code",
      "source": [
        "linalg.det(A)"
      ],
      "metadata": {
        "id": "69SVJc3ZTLb8"
      },
      "execution_count": null,
      "outputs": []
    }
  ]
}