{
  "nbformat": 4,
  "nbformat_minor": 0,
  "metadata": {
    "colab": {
      "provenance": [],
      "collapsed_sections": [],
      "authorship_tag": "ABX9TyMDxvA9IxsG0tW+vC7qesY3",
      "include_colab_link": true
    },
    "kernelspec": {
      "name": "python3",
      "display_name": "Python 3"
    },
    "language_info": {
      "name": "python"
    }
  },
  "cells": [
    {
      "cell_type": "markdown",
      "metadata": {
        "id": "view-in-github",
        "colab_type": "text"
      },
      "source": [
        "<a href=\"https://colab.research.google.com/github/ysneef/Daisotuyentinhvaungdung/blob/main/Chuong2.ipynb\" target=\"_parent\"><img src=\"https://colab.research.google.com/assets/colab-badge.svg\" alt=\"Open In Colab\"/></a>"
      ]
    },
    {
      "cell_type": "code",
      "execution_count": null,
      "metadata": {
        "colab": {
          "base_uri": "https://localhost:8080/"
        },
        "id": "0B3mrvph981y",
        "outputId": "87ff5da6-f6fc-445f-bbf8-e5735d6a3bbe"
      },
      "outputs": [
        {
          "output_type": "execute_result",
          "data": {
            "text/plain": [
              "[30, 50, 70]"
            ]
          },
          "metadata": {},
          "execution_count": 2
        }
      ],
      "source": [
        "def scale(a, v): \n",
        "\treturn [a*vi for vi in v] \n",
        "v = [3,5,7] \n",
        "scale(10, v) "
      ]
    },
    {
      "cell_type": "code",
      "source": [
        "def sumvector(v, w):  \n",
        "  return [vi+wi for (vi, wi) in zip(v, w)] \n",
        "v = [3,5,7] \n",
        "w = [2,4,6] \n",
        "sumvector(v, w) "
      ],
      "metadata": {
        "colab": {
          "base_uri": "https://localhost:8080/"
        },
        "id": "8xOVF70a-RGg",
        "outputId": "217cd0c0-a829-4783-8691-af37f72e7608"
      },
      "execution_count": null,
      "outputs": [
        {
          "output_type": "execute_result",
          "data": {
            "text/plain": [
              "[5, 9, 13]"
            ]
          },
          "metadata": {},
          "execution_count": 4
        }
      ]
    },
    {
      "cell_type": "code",
      "source": [
        "def dotvector(v, w): \n",
        "  \treturn sum([vi*wi for (vi, wi) in zip(v, w)]) \n",
        "dotvector(v, w) "
      ],
      "metadata": {
        "colab": {
          "base_uri": "https://localhost:8080/"
        },
        "id": "V4hmkUsV-cuG",
        "outputId": "cde3bc17-67ab-4ecf-b524-71aebecf5830"
      },
      "execution_count": null,
      "outputs": [
        {
          "output_type": "execute_result",
          "data": {
            "text/plain": [
              "68"
            ]
          },
          "metadata": {},
          "execution_count": 5
        }
      ]
    },
    {
      "cell_type": "code",
      "source": [
        "def lenvector(v):  \n",
        "  return dotvector(v,v) \n",
        "lenvector(w) "
      ],
      "metadata": {
        "colab": {
          "base_uri": "https://localhost:8080/"
        },
        "id": "MCgH3iU2-jSu",
        "outputId": "2ce4e68b-dbb4-4f1c-d72c-e3812b76651c"
      },
      "execution_count": null,
      "outputs": [
        {
          "output_type": "execute_result",
          "data": {
            "text/plain": [
              "56"
            ]
          },
          "metadata": {},
          "execution_count": 6
        }
      ]
    },
    {
      "cell_type": "code",
      "source": [
        "import numpy as np \n",
        "scores  = np.array([-1, 1, 2, -3, 5, -4]) "
      ],
      "metadata": {
        "id": "CYFGd0RA-wgW"
      },
      "execution_count": null,
      "outputs": []
    },
    {
      "cell_type": "code",
      "source": [
        "scores >= 0 "
      ],
      "metadata": {
        "colab": {
          "base_uri": "https://localhost:8080/"
        },
        "id": "f8HlnzPa-y_2",
        "outputId": "ca4b3fc6-b87e-4695-c625-c080239561b9"
      },
      "execution_count": null,
      "outputs": [
        {
          "output_type": "execute_result",
          "data": {
            "text/plain": [
              "array([False,  True,  True, False,  True, False])"
            ]
          },
          "metadata": {},
          "execution_count": 9
        }
      ]
    },
    {
      "cell_type": "code",
      "source": [
        "scores < 0 "
      ],
      "metadata": {
        "colab": {
          "base_uri": "https://localhost:8080/"
        },
        "id": "ax0FXKqc-72W",
        "outputId": "08efb93c-99af-484a-8d45-94e4d1b4f348"
      },
      "execution_count": null,
      "outputs": [
        {
          "output_type": "execute_result",
          "data": {
            "text/plain": [
              "array([ True, False, False,  True, False,  True])"
            ]
          },
          "metadata": {},
          "execution_count": 10
        }
      ]
    },
    {
      "cell_type": "code",
      "source": [
        "np.select([scores >=0, scores < 0],[\"so duong\", \"so am\"]) "
      ],
      "metadata": {
        "colab": {
          "base_uri": "https://localhost:8080/"
        },
        "id": "H9OnqZd8-9ff",
        "outputId": "294778da-e727-4c56-e006-67930cd41103"
      },
      "execution_count": null,
      "outputs": [
        {
          "output_type": "execute_result",
          "data": {
            "text/plain": [
              "array(['so am', 'so duong', 'so duong', 'so am', 'so duong', 'so am'],\n",
              "      dtype='<U8')"
            ]
          },
          "metadata": {},
          "execution_count": 12
        }
      ]
    },
    {
      "cell_type": "code",
      "source": [
        "scores  = np.array([-1, 1, 2, 0, -3, 5, 0, -4]) \n",
        "np.select([scores >0, scores ==0, scores < 0],[\"so duong\", \"so 0\", \"so am\"]) "
      ],
      "metadata": {
        "colab": {
          "base_uri": "https://localhost:8080/"
        },
        "id": "hruM84cr_K7J",
        "outputId": "fc7e0d5c-6492-4eda-b855-d614d9eed0c7"
      },
      "execution_count": null,
      "outputs": [
        {
          "output_type": "execute_result",
          "data": {
            "text/plain": [
              "array(['so am', 'so duong', 'so duong', 'so 0', 'so am', 'so duong',\n",
              "       'so 0', 'so am'], dtype='<U8')"
            ]
          },
          "metadata": {},
          "execution_count": 13
        }
      ]
    },
    {
      "cell_type": "code",
      "source": [
        "import numpy as np    \n",
        "from scipy import linalg, sparse\n",
        "D = np.mat([ [3,4], [5,6] ]) \n",
        "print (D)"
      ],
      "metadata": {
        "colab": {
          "base_uri": "https://localhost:8080/"
        },
        "id": "lOdEXF3L_7ZP",
        "outputId": "a5b08ff8-46cb-4c60-bfa4-eb70869bbf40"
      },
      "execution_count": 5,
      "outputs": [
        {
          "output_type": "stream",
          "name": "stdout",
          "text": [
            "[[3 4]\n",
            " [5 6]]\n"
          ]
        }
      ]
    },
    {
      "cell_type": "code",
      "source": [
        "C = np.mat(np.random.random((5,7)))\n",
        "print (C)"
      ],
      "metadata": {
        "colab": {
          "base_uri": "https://localhost:8080/"
        },
        "id": "q4iQGvjrDKgf",
        "outputId": "70ee5332-0e19-43ee-8990-b3cc4bd1b7ab"
      },
      "execution_count": 6,
      "outputs": [
        {
          "output_type": "stream",
          "name": "stdout",
          "text": [
            "[[0.49687326 0.32370259 0.17844299 0.81903215 0.69938131 0.98907932\n",
            "  0.95128913]\n",
            " [0.1745862  0.65930486 0.13210766 0.50865183 0.52466761 0.48393424\n",
            "  0.18032213]\n",
            " [0.22978173 0.50651175 0.35212117 0.83675783 0.9810572  0.92815722\n",
            "  0.34849762]\n",
            " [0.10465564 0.12679614 0.3470503  0.42344779 0.46832205 0.59293354\n",
            "  0.28390926]\n",
            " [0.1456986  0.4522417  0.53302961 0.79872364 0.94792837 0.25406263\n",
            "  0.33850443]]\n"
          ]
        }
      ]
    },
    {
      "cell_type": "code",
      "source": [
        "A = np.mat(np.random.random((2,2))) \n",
        "print (A)"
      ],
      "metadata": {
        "colab": {
          "base_uri": "https://localhost:8080/"
        },
        "id": "SlSofvHfE1JJ",
        "outputId": "9876cdb7-4239-4e45-f4d8-2b60589ce04f"
      },
      "execution_count": 7,
      "outputs": [
        {
          "output_type": "stream",
          "name": "stdout",
          "text": [
            "[[0.97645074 0.07992488]\n",
            " [0.71417895 0.39558935]]\n"
          ]
        }
      ]
    },
    {
      "cell_type": "code",
      "source": [
        "b = np.array([(1+5j, 2j, 3j),(4, 5, 6)]) \n",
        "B = np.asmatrix(b) \n",
        "print (b) "
      ],
      "metadata": {
        "colab": {
          "base_uri": "https://localhost:8080/"
        },
        "id": "zXShB4BWE1C4",
        "outputId": "3221abb6-f12b-4d9e-8537-00de702e0bd9"
      },
      "execution_count": 8,
      "outputs": [
        {
          "output_type": "stream",
          "name": "stdout",
          "text": [
            "[[1.+5.j 0.+2.j 0.+3.j]\n",
            " [4.+0.j 5.+0.j 6.+0.j]]\n"
          ]
        }
      ]
    },
    {
      "cell_type": "code",
      "source": [
        "print (B)"
      ],
      "metadata": {
        "id": "YU4wW_YKvtES",
        "outputId": "85c137e2-5200-4afc-9475-d80e711ba83e",
        "colab": {
          "base_uri": "https://localhost:8080/"
        }
      },
      "execution_count": 9,
      "outputs": [
        {
          "output_type": "stream",
          "name": "stdout",
          "text": [
            "[[1.+5.j 0.+2.j 0.+3.j]\n",
            " [4.+0.j 5.+0.j 6.+0.j]]\n"
          ]
        }
      ]
    },
    {
      "cell_type": "code",
      "source": [
        "A.T "
      ],
      "metadata": {
        "id": "7k4wRokSyLNl",
        "outputId": "a1f6dd76-2367-4042-cbae-35ebcb46c340",
        "colab": {
          "base_uri": "https://localhost:8080/"
        }
      },
      "execution_count": 10,
      "outputs": [
        {
          "output_type": "execute_result",
          "data": {
            "text/plain": [
              "matrix([[0.97645074, 0.71417895],\n",
              "        [0.07992488, 0.39558935]])"
            ]
          },
          "metadata": {},
          "execution_count": 10
        }
      ]
    },
    {
      "cell_type": "code",
      "source": [
        "A.I"
      ],
      "metadata": {
        "id": "64R6dFsyy4fU",
        "outputId": "d257bb22-5b24-4828-a4ab-190b63ebc00c",
        "colab": {
          "base_uri": "https://localhost:8080/"
        }
      },
      "execution_count": 12,
      "outputs": [
        {
          "output_type": "execute_result",
          "data": {
            "text/plain": [
              "matrix([[ 1.20169485, -0.24279045],\n",
              "        [-2.16948505,  2.96619674]])"
            ]
          },
          "metadata": {},
          "execution_count": 12
        }
      ]
    },
    {
      "cell_type": "code",
      "source": [
        "linalg.inv(A)\n",
        "M = np.array([[-1,3,2],[0, -2,1],[1,5,-2]]) \n",
        "M_lower = np.tril(M) \n",
        "print(M_lower) "
      ],
      "metadata": {
        "id": "Cvc_e_PhzT8H",
        "outputId": "f6ba9cd2-0762-42a3-b576-8f8c11c41979",
        "colab": {
          "base_uri": "https://localhost:8080/"
        }
      },
      "execution_count": 15,
      "outputs": [
        {
          "output_type": "stream",
          "name": "stdout",
          "text": [
            "[[-1  0  0]\n",
            " [ 0 -2  0]\n",
            " [ 1  5 -2]]\n"
          ]
        }
      ]
    }
  ]
}