{
  "nbformat": 4,
  "nbformat_minor": 0,
  "metadata": {
    "colab": {
      "provenance": [],
      "collapsed_sections": [],
      "authorship_tag": "ABX9TyOUiNHCpHLuOYMlOTb8WWm9",
      "include_colab_link": true
    },
    "kernelspec": {
      "name": "python3",
      "display_name": "Python 3"
    },
    "language_info": {
      "name": "python"
    }
  },
  "cells": [
    {
      "cell_type": "markdown",
      "metadata": {
        "id": "view-in-github",
        "colab_type": "text"
      },
      "source": [
        "<a href=\"https://colab.research.google.com/github/ysneef/Daisotuyentinhvaungdung/blob/main/Chuong2.ipynb\" target=\"_parent\"><img src=\"https://colab.research.google.com/assets/colab-badge.svg\" alt=\"Open In Colab\"/></a>"
      ]
    },
    {
      "cell_type": "code",
      "execution_count": null,
      "metadata": {
        "colab": {
          "base_uri": "https://localhost:8080/"
        },
        "id": "0B3mrvph981y",
        "outputId": "87ff5da6-f6fc-445f-bbf8-e5735d6a3bbe"
      },
      "outputs": [
        {
          "output_type": "execute_result",
          "data": {
            "text/plain": [
              "[30, 50, 70]"
            ]
          },
          "metadata": {},
          "execution_count": 2
        }
      ],
      "source": [
        "def scale(a, v): \n",
        "\treturn [a*vi for vi in v] \n",
        "v = [3,5,7] \n",
        "scale(10, v) "
      ]
    },
    {
      "cell_type": "code",
      "source": [
        "def sumvector(v, w):  \n",
        "  return [vi+wi for (vi, wi) in zip(v, w)] \n",
        "v = [3,5,7] \n",
        "w = [2,4,6] \n",
        "sumvector(v, w) "
      ],
      "metadata": {
        "colab": {
          "base_uri": "https://localhost:8080/"
        },
        "id": "8xOVF70a-RGg",
        "outputId": "217cd0c0-a829-4783-8691-af37f72e7608"
      },
      "execution_count": null,
      "outputs": [
        {
          "output_type": "execute_result",
          "data": {
            "text/plain": [
              "[5, 9, 13]"
            ]
          },
          "metadata": {},
          "execution_count": 4
        }
      ]
    },
    {
      "cell_type": "code",
      "source": [
        "def dotvector(v, w): \n",
        "  \treturn sum([vi*wi for (vi, wi) in zip(v, w)]) \n",
        "dotvector(v, w) "
      ],
      "metadata": {
        "colab": {
          "base_uri": "https://localhost:8080/"
        },
        "id": "V4hmkUsV-cuG",
        "outputId": "cde3bc17-67ab-4ecf-b524-71aebecf5830"
      },
      "execution_count": null,
      "outputs": [
        {
          "output_type": "execute_result",
          "data": {
            "text/plain": [
              "68"
            ]
          },
          "metadata": {},
          "execution_count": 5
        }
      ]
    },
    {
      "cell_type": "code",
      "source": [
        "def lenvector(v):  \n",
        "  return dotvector(v,v) \n",
        "lenvector(w) "
      ],
      "metadata": {
        "colab": {
          "base_uri": "https://localhost:8080/"
        },
        "id": "MCgH3iU2-jSu",
        "outputId": "2ce4e68b-dbb4-4f1c-d72c-e3812b76651c"
      },
      "execution_count": null,
      "outputs": [
        {
          "output_type": "execute_result",
          "data": {
            "text/plain": [
              "56"
            ]
          },
          "metadata": {},
          "execution_count": 6
        }
      ]
    },
    {
      "cell_type": "code",
      "source": [
        "import numpy as np \n",
        "scores  = np.array([-1, 1, 2, -3, 5, -4]) "
      ],
      "metadata": {
        "id": "CYFGd0RA-wgW"
      },
      "execution_count": null,
      "outputs": []
    },
    {
      "cell_type": "code",
      "source": [
        "scores >= 0 "
      ],
      "metadata": {
        "colab": {
          "base_uri": "https://localhost:8080/"
        },
        "id": "f8HlnzPa-y_2",
        "outputId": "ca4b3fc6-b87e-4695-c625-c080239561b9"
      },
      "execution_count": null,
      "outputs": [
        {
          "output_type": "execute_result",
          "data": {
            "text/plain": [
              "array([False,  True,  True, False,  True, False])"
            ]
          },
          "metadata": {},
          "execution_count": 9
        }
      ]
    },
    {
      "cell_type": "code",
      "source": [
        "scores < 0 "
      ],
      "metadata": {
        "colab": {
          "base_uri": "https://localhost:8080/"
        },
        "id": "ax0FXKqc-72W",
        "outputId": "08efb93c-99af-484a-8d45-94e4d1b4f348"
      },
      "execution_count": null,
      "outputs": [
        {
          "output_type": "execute_result",
          "data": {
            "text/plain": [
              "array([ True, False, False,  True, False,  True])"
            ]
          },
          "metadata": {},
          "execution_count": 10
        }
      ]
    },
    {
      "cell_type": "code",
      "source": [
        "np.select([scores >=0, scores < 0],[\"so duong\", \"so am\"]) "
      ],
      "metadata": {
        "colab": {
          "base_uri": "https://localhost:8080/"
        },
        "id": "H9OnqZd8-9ff",
        "outputId": "294778da-e727-4c56-e006-67930cd41103"
      },
      "execution_count": null,
      "outputs": [
        {
          "output_type": "execute_result",
          "data": {
            "text/plain": [
              "array(['so am', 'so duong', 'so duong', 'so am', 'so duong', 'so am'],\n",
              "      dtype='<U8')"
            ]
          },
          "metadata": {},
          "execution_count": 12
        }
      ]
    },
    {
      "cell_type": "code",
      "source": [
        "scores  = np.array([-1, 1, 2, 0, -3, 5, 0, -4]) \n",
        "np.select([scores >0, scores ==0, scores < 0],[\"so duong\", \"so 0\", \"so am\"]) "
      ],
      "metadata": {
        "colab": {
          "base_uri": "https://localhost:8080/"
        },
        "id": "hruM84cr_K7J",
        "outputId": "fc7e0d5c-6492-4eda-b855-d614d9eed0c7"
      },
      "execution_count": null,
      "outputs": [
        {
          "output_type": "execute_result",
          "data": {
            "text/plain": [
              "array(['so am', 'so duong', 'so duong', 'so 0', 'so am', 'so duong',\n",
              "       'so 0', 'so am'], dtype='<U8')"
            ]
          },
          "metadata": {},
          "execution_count": 13
        }
      ]
    },
    {
      "cell_type": "code",
      "source": [
        "import numpy as np    \n",
        "from scipy import linalg, sparse\n",
        "D = np.mat([ [3,4], [5,6] ]) \n",
        "print (D)"
      ],
      "metadata": {
        "colab": {
          "base_uri": "https://localhost:8080/"
        },
        "id": "lOdEXF3L_7ZP",
        "outputId": "50a86b3a-c4ea-4eef-ae9a-29d3c199ebe6"
      },
      "execution_count": null,
      "outputs": [
        {
          "output_type": "stream",
          "name": "stdout",
          "text": [
            "[[3 4]\n",
            " [5 6]]\n"
          ]
        }
      ]
    },
    {
      "cell_type": "code",
      "source": [
        "C = np.mat(np.random.random((5,7)))\n",
        "print (C)"
      ],
      "metadata": {
        "colab": {
          "base_uri": "https://localhost:8080/"
        },
        "id": "q4iQGvjrDKgf",
        "outputId": "8663be87-7114-4a12-bd08-ccf8cbcc2ccd"
      },
      "execution_count": null,
      "outputs": [
        {
          "output_type": "stream",
          "name": "stdout",
          "text": [
            "[[0.21926902 0.52503521 0.59121954 0.51780828 0.84212749 0.2228611\n",
            "  0.01048409]\n",
            " [0.56352056 0.30408573 0.91320892 0.78891068 0.24963946 0.046328\n",
            "  0.8778773 ]\n",
            " [0.65627348 0.86605079 0.36074884 0.56884123 0.05570356 0.55677592\n",
            "  0.44361873]\n",
            " [0.25968776 0.48342509 0.5128664  0.07671608 0.00451245 0.40375803\n",
            "  0.32833395]\n",
            " [0.66940665 0.49840975 0.58331043 0.34917602 0.96127602 0.45420557\n",
            "  0.07499299]]\n"
          ]
        }
      ]
    },
    {
      "cell_type": "code",
      "source": [
        "A = np.mat(np.random.random((2,2))) \n",
        "print (A)"
      ],
      "metadata": {
        "colab": {
          "base_uri": "https://localhost:8080/"
        },
        "id": "SlSofvHfE1JJ",
        "outputId": "4cdf1817-e5b6-42ce-cfd5-7522a07c9779"
      },
      "execution_count": null,
      "outputs": [
        {
          "output_type": "stream",
          "name": "stdout",
          "text": [
            "[[0.79060369 0.25587658]\n",
            " [0.55567326 0.62477818]]\n"
          ]
        }
      ]
    },
    {
      "cell_type": "code",
      "source": [
        "b = np.array([(1+5j, 2j, 3j),(4, 5, 6)]) \n",
        "B = np.asmatrix(b) \n",
        "print (b) "
      ],
      "metadata": {
        "colab": {
          "base_uri": "https://localhost:8080/"
        },
        "id": "zXShB4BWE1C4",
        "outputId": "ed3717d7-22a3-43dc-83c8-b337035eab9b"
      },
      "execution_count": null,
      "outputs": [
        {
          "output_type": "stream",
          "name": "stdout",
          "text": [
            "[[1.+5.j 0.+2.j 0.+3.j]\n",
            " [4.+0.j 5.+0.j 6.+0.j]]\n"
          ]
        }
      ]
    }
  ]
}