{
  "nbformat": 4,
  "nbformat_minor": 0,
  "metadata": {
    "colab": {
      "provenance": [],
      "collapsed_sections": [],
      "authorship_tag": "ABX9TyNOXXuTdB4XtXk8kOYiF0at",
      "include_colab_link": true
    },
    "kernelspec": {
      "name": "python3",
      "display_name": "Python 3"
    },
    "language_info": {
      "name": "python"
    }
  },
  "cells": [
    {
      "cell_type": "markdown",
      "metadata": {
        "id": "view-in-github",
        "colab_type": "text"
      },
      "source": [
        "<a href=\"https://colab.research.google.com/github/ysneef/Daisotuyentinhvaungdung/blob/main/Chuong2.ipynb\" target=\"_parent\"><img src=\"https://colab.research.google.com/assets/colab-badge.svg\" alt=\"Open In Colab\"/></a>"
      ]
    },
    {
      "cell_type": "code",
      "execution_count": 1,
      "metadata": {
        "colab": {
          "base_uri": "https://localhost:8080/"
        },
        "id": "0B3mrvph981y",
        "outputId": "8e9b36cd-2560-4e1f-8ffd-a45b4263ea99"
      },
      "outputs": [
        {
          "output_type": "execute_result",
          "data": {
            "text/plain": [
              "[30, 50, 70]"
            ]
          },
          "metadata": {},
          "execution_count": 1
        }
      ],
      "source": [
        "def scale(a, v): \n",
        "\treturn [a*vi for vi in v] \n",
        "v = [3,5,7] \n",
        "scale(10, v) "
      ]
    },
    {
      "cell_type": "code",
      "source": [
        "def sumvector(v, w):  \n",
        "  return [vi+wi for (vi, wi) in zip(v, w)] \n",
        "v = [3,5,7] \n",
        "w = [2,4,6] \n",
        "sumvector(v, w) "
      ],
      "metadata": {
        "colab": {
          "base_uri": "https://localhost:8080/"
        },
        "id": "8xOVF70a-RGg",
        "outputId": "a2c23132-33aa-4d9b-8329-ecc9cbabe1a5"
      },
      "execution_count": 2,
      "outputs": [
        {
          "output_type": "execute_result",
          "data": {
            "text/plain": [
              "[5, 9, 13]"
            ]
          },
          "metadata": {},
          "execution_count": 2
        }
      ]
    },
    {
      "cell_type": "code",
      "source": [
        "def dotvector(v, w): \n",
        "  \treturn sum([vi*wi for (vi, wi) in zip(v, w)]) \n",
        "dotvector(v, w) "
      ],
      "metadata": {
        "colab": {
          "base_uri": "https://localhost:8080/"
        },
        "id": "V4hmkUsV-cuG",
        "outputId": "ddd5bf74-7866-49a2-d0a4-3a2d2bbf8d57"
      },
      "execution_count": 3,
      "outputs": [
        {
          "output_type": "execute_result",
          "data": {
            "text/plain": [
              "68"
            ]
          },
          "metadata": {},
          "execution_count": 3
        }
      ]
    },
    {
      "cell_type": "code",
      "source": [
        "def lenvector(v):  \n",
        "  return dotvector(v,v) \n",
        "lenvector(w) "
      ],
      "metadata": {
        "colab": {
          "base_uri": "https://localhost:8080/"
        },
        "id": "MCgH3iU2-jSu",
        "outputId": "69630b4e-8dca-4aaa-f32c-55725e669fc2"
      },
      "execution_count": 4,
      "outputs": [
        {
          "output_type": "execute_result",
          "data": {
            "text/plain": [
              "56"
            ]
          },
          "metadata": {},
          "execution_count": 4
        }
      ]
    },
    {
      "cell_type": "code",
      "source": [
        "import numpy as np \n",
        "scores  = np.array([-1, 1, 2, -3, 5, -4]) "
      ],
      "metadata": {
        "id": "CYFGd0RA-wgW"
      },
      "execution_count": 5,
      "outputs": []
    },
    {
      "cell_type": "code",
      "source": [
        "scores < 0 "
      ],
      "metadata": {
        "colab": {
          "base_uri": "https://localhost:8080/"
        },
        "id": "ax0FXKqc-72W",
        "outputId": "41b2aaca-3e6e-4a14-913a-6738f19d9c76"
      },
      "execution_count": 7,
      "outputs": [
        {
          "output_type": "execute_result",
          "data": {
            "text/plain": [
              "array([ True, False, False,  True, False,  True])"
            ]
          },
          "metadata": {},
          "execution_count": 7
        }
      ]
    },
    {
      "cell_type": "code",
      "source": [
        "np.select([scores >=0, scores < 0],[\"so duong\", \"so am\"]) "
      ],
      "metadata": {
        "colab": {
          "base_uri": "https://localhost:8080/"
        },
        "id": "H9OnqZd8-9ff",
        "outputId": "1a04b6fb-0aad-4ce2-e8c5-7d06d8f34cc8"
      },
      "execution_count": 8,
      "outputs": [
        {
          "output_type": "execute_result",
          "data": {
            "text/plain": [
              "array(['so am', 'so duong', 'so duong', 'so am', 'so duong', 'so am'],\n",
              "      dtype='<U8')"
            ]
          },
          "metadata": {},
          "execution_count": 8
        }
      ]
    },
    {
      "cell_type": "code",
      "source": [
        "scores  = np.array([-1, 1, 2, 0, -3, 5, 0, -4]) \n",
        "np.select([scores >0, scores ==0, scores < 0],[\"so duong\", \"so 0\", \"so am\"]) "
      ],
      "metadata": {
        "colab": {
          "base_uri": "https://localhost:8080/"
        },
        "id": "hruM84cr_K7J",
        "outputId": "7a476dde-a5dc-4244-b86e-9be10d5eb579"
      },
      "execution_count": 9,
      "outputs": [
        {
          "output_type": "execute_result",
          "data": {
            "text/plain": [
              "array(['so am', 'so duong', 'so duong', 'so 0', 'so am', 'so duong',\n",
              "       'so 0', 'so am'], dtype='<U8')"
            ]
          },
          "metadata": {},
          "execution_count": 9
        }
      ]
    },
    {
      "cell_type": "code",
      "source": [
        "import numpy as np    \n",
        "from scipy import linalg, sparse\n",
        "D = np.mat([ [3,4], [5,6] ]) \n",
        "print (D)"
      ],
      "metadata": {
        "colab": {
          "base_uri": "https://localhost:8080/"
        },
        "id": "lOdEXF3L_7ZP",
        "outputId": "9c490f8b-d654-4895-bf77-36ea61367bd8"
      },
      "execution_count": 10,
      "outputs": [
        {
          "output_type": "stream",
          "name": "stdout",
          "text": [
            "[[3 4]\n",
            " [5 6]]\n"
          ]
        }
      ]
    },
    {
      "cell_type": "code",
      "source": [
        "C = np.mat(np.random.random((5,7)))\n",
        "print (C)"
      ],
      "metadata": {
        "colab": {
          "base_uri": "https://localhost:8080/"
        },
        "id": "q4iQGvjrDKgf",
        "outputId": "cb91e505-c2a5-45e5-86c8-00fb416a64a5"
      },
      "execution_count": 11,
      "outputs": [
        {
          "output_type": "stream",
          "name": "stdout",
          "text": [
            "[[0.41768769 0.70849971 0.54787942 0.71737203 0.64002539 0.10683086\n",
            "  0.30363191]\n",
            " [0.54109933 0.80319934 0.94900812 0.38235887 0.89279777 0.10705633\n",
            "  0.71898025]\n",
            " [0.39654878 0.45671069 0.41573037 0.15775992 0.24784098 0.52567094\n",
            "  0.49942921]\n",
            " [0.30074892 0.27742179 0.3972608  0.67940496 0.69193305 0.14244301\n",
            "  0.19081581]\n",
            " [0.78124368 0.22946698 0.67253473 0.32101048 0.7940614  0.30782155\n",
            "  0.32953418]]\n"
          ]
        }
      ]
    },
    {
      "cell_type": "code",
      "source": [
        "A = np.mat(np.random.random((2,2))) \n",
        "print (A)"
      ],
      "metadata": {
        "colab": {
          "base_uri": "https://localhost:8080/"
        },
        "id": "SlSofvHfE1JJ",
        "outputId": "bacca263-79d9-4543-e2df-a04b0017a7b7"
      },
      "execution_count": 12,
      "outputs": [
        {
          "output_type": "stream",
          "name": "stdout",
          "text": [
            "[[0.8508041  0.77501268]\n",
            " [0.03010328 0.79064972]]\n"
          ]
        }
      ]
    },
    {
      "cell_type": "code",
      "source": [
        "b = np.array([(1+5j, 2j, 3j),(4, 5, 6)]) \n",
        "B = np.asmatrix(b) \n",
        "print (b) "
      ],
      "metadata": {
        "colab": {
          "base_uri": "https://localhost:8080/"
        },
        "id": "zXShB4BWE1C4",
        "outputId": "ed744a8d-2231-40cb-8c1d-1a2a11b0f4cb"
      },
      "execution_count": 13,
      "outputs": [
        {
          "output_type": "stream",
          "name": "stdout",
          "text": [
            "[[1.+5.j 0.+2.j 0.+3.j]\n",
            " [4.+0.j 5.+0.j 6.+0.j]]\n"
          ]
        }
      ]
    },
    {
      "cell_type": "code",
      "source": [
        "print (B)"
      ],
      "metadata": {
        "id": "YU4wW_YKvtES",
        "outputId": "4e1942ea-0468-4ba1-90ac-f7dda9722709",
        "colab": {
          "base_uri": "https://localhost:8080/"
        }
      },
      "execution_count": 14,
      "outputs": [
        {
          "output_type": "stream",
          "name": "stdout",
          "text": [
            "[[1.+5.j 0.+2.j 0.+3.j]\n",
            " [4.+0.j 5.+0.j 6.+0.j]]\n"
          ]
        }
      ]
    },
    {
      "cell_type": "code",
      "source": [
        "A.T "
      ],
      "metadata": {
        "id": "7k4wRokSyLNl",
        "outputId": "756d9299-95cc-44eb-ad40-46e2d3b13ef6",
        "colab": {
          "base_uri": "https://localhost:8080/"
        }
      },
      "execution_count": 15,
      "outputs": [
        {
          "output_type": "execute_result",
          "data": {
            "text/plain": [
              "matrix([[0.8508041 , 0.03010328],\n",
              "        [0.77501268, 0.79064972]])"
            ]
          },
          "metadata": {},
          "execution_count": 15
        }
      ]
    },
    {
      "cell_type": "code",
      "source": [
        "A.I"
      ],
      "metadata": {
        "id": "64R6dFsyy4fU",
        "outputId": "52b68fba-21df-45f0-d771-a64c77341c93",
        "colab": {
          "base_uri": "https://localhost:8080/"
        }
      },
      "execution_count": 16,
      "outputs": [
        {
          "output_type": "execute_result",
          "data": {
            "text/plain": [
              "matrix([[ 1.21758754, -1.19350675],\n",
              "        [-0.04635856,  1.31022429]])"
            ]
          },
          "metadata": {},
          "execution_count": 16
        }
      ]
    },
    {
      "cell_type": "code",
      "source": [
        "linalg.inv(A)\n",
        "M = np.array([[-1,3,2],[0, -2,1],[1,5,-2]]) \n",
        "M_lower = np.tril(M) \n",
        "print(M_lower) "
      ],
      "metadata": {
        "id": "Cvc_e_PhzT8H",
        "outputId": "f2e7d2d7-babf-4c1d-ee2b-0c94eeb0d01d",
        "colab": {
          "base_uri": "https://localhost:8080/"
        }
      },
      "execution_count": 17,
      "outputs": [
        {
          "output_type": "stream",
          "name": "stdout",
          "text": [
            "[[-1  0  0]\n",
            " [ 0 -2  0]\n",
            " [ 1  5 -2]]\n"
          ]
        }
      ]
    },
    {
      "cell_type": "code",
      "source": [
        "M \t= \tnp.array([[-1,3,2],[0,-2,1],[1,5,-2]])\n",
        "M_upper = np.triu(M) \n",
        "print(M_upper) "
      ],
      "metadata": {
        "id": "WvS3s54jbA0t",
        "outputId": "6d8b2c5d-f8c8-4c40-8cf2-43dac15f533e",
        "colab": {
          "base_uri": "https://localhost:8080/"
        }
      },
      "execution_count": 18,
      "outputs": [
        {
          "output_type": "stream",
          "name": "stdout",
          "text": [
            "[[-1  3  2]\n",
            " [ 0 -2  1]\n",
            " [ 0  0 -2]]\n"
          ]
        }
      ]
    },
    {
      "cell_type": "code",
      "source": [
        "M \t= \tnp.array([[-1,3,2],[0,-2,1],[1,5,-2]]) \n",
        "v_diag = np.diag(M)\n",
        "print (v_diag) "
      ],
      "metadata": {
        "id": "WH0-vHKvbaAW",
        "outputId": "e81e51da-a374-4aaa-f7ec-5708f12d3fcf",
        "colab": {
          "base_uri": "https://localhost:8080/"
        }
      },
      "execution_count": 23,
      "outputs": [
        {
          "output_type": "stream",
          "name": "stdout",
          "text": [
            "[-1 -2 -2]\n"
          ]
        }
      ]
    },
    {
      "cell_type": "code",
      "source": [
        "print (M_diag) "
      ],
      "metadata": {
        "id": "2h-ZapXxbjvV",
        "outputId": "0931eaf7-a200-4fbb-8f46-3fcfceeaa396",
        "colab": {
          "base_uri": "https://localhost:8080/",
          "height": 165
        }
      },
      "execution_count": 21,
      "outputs": [
        {
          "output_type": "error",
          "ename": "NameError",
          "evalue": "ignored",
          "traceback": [
            "\u001b[0;31m---------------------------------------------------------------------------\u001b[0m",
            "\u001b[0;31mNameError\u001b[0m                                 Traceback (most recent call last)",
            "\u001b[0;32m<ipython-input-21-348e12f3222f>\u001b[0m in \u001b[0;36m<module>\u001b[0;34m\u001b[0m\n\u001b[0;32m----> 1\u001b[0;31m \u001b[0mprint\u001b[0m \u001b[0;34m(\u001b[0m\u001b[0mM_diag\u001b[0m\u001b[0;34m)\u001b[0m\u001b[0;34m\u001b[0m\u001b[0;34m\u001b[0m\u001b[0m\n\u001b[0m",
            "\u001b[0;31mNameError\u001b[0m: name 'M_diag' is not defined"
          ]
        }
      ]
    }
  ]
}