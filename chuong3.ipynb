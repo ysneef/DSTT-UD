{
  "nbformat": 4,
  "nbformat_minor": 0,
  "metadata": {
    "colab": {
      "provenance": [],
      "authorship_tag": "ABX9TyPDHDyV6z1ZDL7TyXjIFNO/",
      "include_colab_link": true
    },
    "kernelspec": {
      "name": "python3",
      "display_name": "Python 3"
    },
    "language_info": {
      "name": "python"
    }
  },
  "cells": [
    {
      "cell_type": "markdown",
      "metadata": {
        "id": "view-in-github",
        "colab_type": "text"
      },
      "source": [
        "<a href=\"https://colab.research.google.com/github/ysneef/Daisotuyentinhvaungdung/blob/main/chuong3.ipynb\" target=\"_parent\"><img src=\"https://colab.research.google.com/assets/colab-badge.svg\" alt=\"Open In Colab\"/></a>"
      ]
    },
    {
      "cell_type": "markdown",
      "source": [
        "1.1. Một số phép xử lý ma trận của NumPy và Scipy\n",
        "- Khởi tạo ma trận:"
      ],
      "metadata": {
        "id": "bOJELza-UvsE"
      }
    },
    {
      "cell_type": "markdown",
      "source": [
        "Khai báo thêm thư viện scipylinalg và một số các vector khởi tạo: "
      ],
      "metadata": {
        "id": "A1aFSQjkVDDb"
      }
    },
    {
      "cell_type": "code",
      "execution_count": 2,
      "metadata": {
        "id": "YIhW96FxR7t1"
      },
      "outputs": [],
      "source": [
        "from scipy import linalg\n",
        "import numpy as np\n",
        "a = np.array([1, 2, 3])\n",
        "b = np.array([(1+9j, 2j, 3j), (4j, 5j, 6j)]) # số phức\n",
        "c = np.array([[ (0.5, 1.5, 10), (3,2,1) ] , [(6,5,4), (7,8,9)]]) # ma trận số thực "
      ]
    },
    {
      "cell_type": "markdown",
      "source": [
        "Các kiểu khai báo và khởi tạo ma trận: "
      ],
      "metadata": {
        "id": "J1mfQxvJVKRa"
      }
    },
    {
      "cell_type": "code",
      "source": [
        "A = np.matrix(np.random.random( (2,2) ) ) \n",
        "B = np.asmatrix(b) # Chuyển b thành dạng ma trận\n",
        "C = np.mat(np.random.random( (10,5) ) ) \n",
        "D = np.mat([ [4, 3], [2, 6] ])\n",
        "F = np.eye(3, k=1) # tạo ma trận đường chéo. 3 là ma trận 3x3, k=1 là đường chéo nằm phía trên đường chéo chính (k = 0).\n",
        "F"
      ],
      "metadata": {
        "colab": {
          "base_uri": "https://localhost:8080/"
        },
        "id": "GLgRRHPhT41j",
        "outputId": "bb75492f-6353-408d-c151-6241aaab4cce"
      },
      "execution_count": 8,
      "outputs": [
        {
          "output_type": "execute_result",
          "data": {
            "text/plain": [
              "array([[0., 1., 0.],\n",
              "       [0., 0., 1.],\n",
              "       [0., 0., 0.]])"
            ]
          },
          "metadata": {},
          "execution_count": 8
        }
      ]
    },
    {
      "cell_type": "markdown",
      "source": [
        "Thử một số câu lệnh liên quan:"
      ],
      "metadata": {
        "id": "BRqsLuoNVN84"
      }
    },
    {
      "cell_type": "code",
      "source": [
        "F = np.eye(3, k=0)\n",
        "F"
      ],
      "metadata": {
        "colab": {
          "base_uri": "https://localhost:8080/"
        },
        "id": "UZZWH2bPSvi0",
        "outputId": "4a7676ba-51ea-45f6-b71f-f8a1cfe127d2"
      },
      "execution_count": 10,
      "outputs": [
        {
          "output_type": "execute_result",
          "data": {
            "text/plain": [
              "array([[1., 0., 0.],\n",
              "       [0., 1., 0.],\n",
              "       [0., 0., 1.]])"
            ]
          },
          "metadata": {},
          "execution_count": 10
        }
      ]
    },
    {
      "cell_type": "code",
      "source": [
        "F = np.eye(3, k=-1)\n",
        "F"
      ],
      "metadata": {
        "colab": {
          "base_uri": "https://localhost:8080/"
        },
        "id": "imM0sYoESxB4",
        "outputId": "0c91ff10-da40-4713-ddca-96126d15a88d"
      },
      "execution_count": 11,
      "outputs": [
        {
          "output_type": "execute_result",
          "data": {
            "text/plain": [
              "array([[0., 0., 0.],\n",
              "       [1., 0., 0.],\n",
              "       [0., 1., 0.]])"
            ]
          },
          "metadata": {},
          "execution_count": 11
        }
      ]
    },
    {
      "cell_type": "markdown",
      "source": [
        "- Các phép xử lý đơn giản "
      ],
      "metadata": {
        "id": "49Zpp8FEWK0-"
      }
    },
    {
      "cell_type": "code",
      "source": [
        "# Xem hạng ma trận:\n",
        "np.linalg.matrix_rank(C) "
      ],
      "metadata": {
        "colab": {
          "base_uri": "https://localhost:8080/"
        },
        "id": "wG1BimZiSy5l",
        "outputId": "d0c7f356-3057-4770-8949-2b9faef33d43"
      },
      "execution_count": 20,
      "outputs": [
        {
          "output_type": "execute_result",
          "data": {
            "text/plain": [
              "5"
            ]
          },
          "metadata": {},
          "execution_count": 20
        }
      ]
    },
    {
      "cell_type": "code",
      "source": [
        "# Tính ma trận nghịch đảo: \n",
        "A.I"
      ],
      "metadata": {
        "colab": {
          "base_uri": "https://localhost:8080/"
        },
        "id": "x6JEvbOYTG2U",
        "outputId": "0aaf0a1c-bacd-4d66-cdba-477c1e59a613"
      },
      "execution_count": 21,
      "outputs": [
        {
          "output_type": "execute_result",
          "data": {
            "text/plain": [
              "matrix([[-2.85313535,  3.74684485],\n",
              "        [ 6.47242683, -2.7166373 ]])"
            ]
          },
          "metadata": {},
          "execution_count": 21
        }
      ]
    },
    {
      "cell_type": "code",
      "source": [
        "linalg.inv(A) # đây là lệnh của gói scipy, nên có thể sử dụng scipy.linalg.inv(A)"
      ],
      "metadata": {
        "colab": {
          "base_uri": "https://localhost:8080/"
        },
        "id": "Ae3u8fRuTJM-",
        "outputId": "9a59cbea-72dd-478e-8716-683b211ce463"
      },
      "execution_count": 14,
      "outputs": [
        {
          "output_type": "execute_result",
          "data": {
            "text/plain": [
              "array([[-2.85313535,  3.74684485],\n",
              "       [ 6.47242683, -2.7166373 ]])"
            ]
          },
          "metadata": {},
          "execution_count": 14
        }
      ]
    },
    {
      "cell_type": "code",
      "source": [
        "# Định thức ma trận: \n",
        "linalg.det(A)"
      ],
      "metadata": {
        "colab": {
          "base_uri": "https://localhost:8080/"
        },
        "id": "69SVJc3ZTLb8",
        "outputId": "59c62586-6e5b-444e-d495-0e3190331558"
      },
      "execution_count": 22,
      "outputs": [
        {
          "output_type": "execute_result",
          "data": {
            "text/plain": [
              "-0.06060515969539459"
            ]
          },
          "metadata": {},
          "execution_count": 22
        }
      ]
    },
    {
      "cell_type": "code",
      "source": [
        "# Chuyển đổi ma trận: \n",
        "A.T #chuyển vị (dòng <=> cột)"
      ],
      "metadata": {
        "id": "9F4gKujqUjh2",
        "outputId": "9d0a4f92-335d-47b0-c81c-b0334ac6adb5",
        "colab": {
          "base_uri": "https://localhost:8080/"
        }
      },
      "execution_count": 23,
      "outputs": [
        {
          "output_type": "execute_result",
          "data": {
            "text/plain": [
              "matrix([[0.16464224, 0.39226246],\n",
              "        [0.22707813, 0.17291472]])"
            ]
          },
          "metadata": {},
          "execution_count": 23
        }
      ]
    },
    {
      "cell_type": "code",
      "source": [
        "# Chuyển đổi ma trận: \n",
        "A.H # chuyển vị liên hợp "
      ],
      "metadata": {
        "id": "ByEyALcAUo7h",
        "outputId": "0ed799c6-8efd-4329-8709-bbc64e88ddae",
        "colab": {
          "base_uri": "https://localhost:8080/"
        }
      },
      "execution_count": 25,
      "outputs": [
        {
          "output_type": "execute_result",
          "data": {
            "text/plain": [
              "matrix([[0.16464224, 0.39226246],\n",
              "        [0.22707813, 0.17291472]])"
            ]
          },
          "metadata": {},
          "execution_count": 25
        }
      ]
    },
    {
      "cell_type": "markdown",
      "source": [
        "-  Giải các loại phương trình tuyến tính: "
      ],
      "metadata": {
        "id": "DVMeTBuyWvsW"
      }
    },
    {
      "cell_type": "code",
      "source": [
        "linalg.solve(A, b) "
      ],
      "metadata": {
        "id": "f2masjr2Urce",
        "outputId": "62b2e986-e2ab-459f-8d04-76a5d2e7c357",
        "colab": {
          "base_uri": "https://localhost:8080/"
        }
      },
      "execution_count": 19,
      "outputs": [
        {
          "output_type": "execute_result",
          "data": {
            "text/plain": [
              "array([[-2.85313535-10.69083871j,  0.        +13.02795357j,\n",
              "         0.        +13.92166308j],\n",
              "       [ 6.47242683+47.38529232j,  0.         -0.63833282j,\n",
              "         0.         +3.11745671j]])"
            ]
          },
          "metadata": {},
          "execution_count": 19
        }
      ]
    },
    {
      "cell_type": "code",
      "source": [
        "E = np.mat(a).T \n",
        "E"
      ],
      "metadata": {
        "id": "ceuTJn7hWy9H",
        "outputId": "d025c5b7-23a4-46a5-ec72-69322873620a",
        "colab": {
          "base_uri": "https://localhost:8080/"
        }
      },
      "execution_count": 26,
      "outputs": [
        {
          "output_type": "execute_result",
          "data": {
            "text/plain": [
              "matrix([[1],\n",
              "        [2],\n",
              "        [3]])"
            ]
          },
          "metadata": {},
          "execution_count": 26
        }
      ]
    },
    {
      "cell_type": "code",
      "source": [
        "linalg.lstsq(F, E) "
      ],
      "metadata": {
        "id": "r3TkiME6W4p_",
        "outputId": "f544ef0b-3608-4956-ef40-c0bd7804cc2f",
        "colab": {
          "base_uri": "https://localhost:8080/"
        }
      },
      "execution_count": 27,
      "outputs": [
        {
          "output_type": "execute_result",
          "data": {
            "text/plain": [
              "(array([[2.],\n",
              "        [3.],\n",
              "        [0.]]), array([], dtype=float64), 2, array([1., 1., 0.]))"
            ]
          },
          "metadata": {},
          "execution_count": 27
        }
      ]
    },
    {
      "cell_type": "markdown",
      "source": [
        "- Các hàm trên ma trận "
      ],
      "metadata": {
        "id": "ordYRSM8W9fF"
      }
    },
    {
      "cell_type": "markdown",
      "source": [
        "Giới thiệu một số hàm trên ma trận. Các bạn sinh viên thực tập trên ma trận A và D khai\n",
        "báo bên trên: "
      ],
      "metadata": {
        "id": "UnFhL7B7W_uO"
      }
    },
    {
      "cell_type": "code",
      "source": [
        "# Cộng ma trận:\n",
        "np.add(A, D) "
      ],
      "metadata": {
        "id": "WQs6bzn8XBa1",
        "outputId": "2a96a73f-9fba-4e9a-9e07-6adb097e4a3f",
        "colab": {
          "base_uri": "https://localhost:8080/"
        }
      },
      "execution_count": 28,
      "outputs": [
        {
          "output_type": "execute_result",
          "data": {
            "text/plain": [
              "matrix([[4.16464224, 3.22707813],\n",
              "        [2.39226246, 6.17291472]])"
            ]
          },
          "metadata": {},
          "execution_count": 28
        }
      ]
    },
    {
      "cell_type": "code",
      "source": [
        "# Trừ ma trận:\n",
        "np.subtract(A, D) "
      ],
      "metadata": {
        "id": "VG-f2ySsXHIf",
        "outputId": "bcbd9c22-07de-4c8c-9b91-69f6e194140d",
        "colab": {
          "base_uri": "https://localhost:8080/"
        }
      },
      "execution_count": 29,
      "outputs": [
        {
          "output_type": "execute_result",
          "data": {
            "text/plain": [
              "matrix([[-3.83535776, -2.77292187],\n",
              "        [-1.60773754, -5.82708528]])"
            ]
          },
          "metadata": {},
          "execution_count": 29
        }
      ]
    },
    {
      "cell_type": "code",
      "source": [
        "# Chia ma trận: \n",
        "np.divide(A, D) "
      ],
      "metadata": {
        "id": "YKm4r5tJXLYn",
        "outputId": "8a3bb479-363d-4830-ef7b-e51ef3ed7fb6",
        "colab": {
          "base_uri": "https://localhost:8080/"
        }
      },
      "execution_count": 30,
      "outputs": [
        {
          "output_type": "execute_result",
          "data": {
            "text/plain": [
              "matrix([[0.04116056, 0.07569271],\n",
              "        [0.19613123, 0.02881912]])"
            ]
          },
          "metadata": {},
          "execution_count": 30
        }
      ]
    },
    {
      "cell_type": "code",
      "source": [
        "# Nhân ma trận: \n",
        "A @ D # phiên bản Python 3.x"
      ],
      "metadata": {
        "id": "ayxiZqxUXPqU",
        "outputId": "bf18056e-db92-456d-ba5c-13554eb26ec4",
        "colab": {
          "base_uri": "https://localhost:8080/"
        }
      },
      "execution_count": 31,
      "outputs": [
        {
          "output_type": "execute_result",
          "data": {
            "text/plain": [
              "matrix([[1.11272521, 1.8563955 ],\n",
              "        [1.91487929, 2.21427573]])"
            ]
          },
          "metadata": {},
          "execution_count": 31
        }
      ]
    },
    {
      "cell_type": "code",
      "source": [
        "np.multiply(D, A) "
      ],
      "metadata": {
        "id": "N-9DUu2RXTJO",
        "outputId": "9a238753-0fca-4d96-91d4-f7ee774eb1c6",
        "colab": {
          "base_uri": "https://localhost:8080/"
        }
      },
      "execution_count": 32,
      "outputs": [
        {
          "output_type": "execute_result",
          "data": {
            "text/plain": [
              "matrix([[0.65856895, 0.68123439],\n",
              "        [0.78452492, 1.03748834]])"
            ]
          },
          "metadata": {},
          "execution_count": 32
        }
      ]
    },
    {
      "cell_type": "code",
      "source": [
        "np.dot(A, D) "
      ],
      "metadata": {
        "id": "dOuj_SN2XU6t",
        "outputId": "00844c32-6e4f-46c8-d489-cb27d8151225",
        "colab": {
          "base_uri": "https://localhost:8080/"
        }
      },
      "execution_count": 33,
      "outputs": [
        {
          "output_type": "execute_result",
          "data": {
            "text/plain": [
              "matrix([[1.11272521, 1.8563955 ],\n",
              "        [1.91487929, 2.21427573]])"
            ]
          },
          "metadata": {},
          "execution_count": 33
        }
      ]
    },
    {
      "cell_type": "code",
      "source": [
        "np.vdot(A, D) "
      ],
      "metadata": {
        "id": "rh740B7IXW7M",
        "outputId": "4ef08beb-12ea-4435-e32d-67c6381ceae0",
        "colab": {
          "base_uri": "https://localhost:8080/"
        }
      },
      "execution_count": 34,
      "outputs": [
        {
          "output_type": "execute_result",
          "data": {
            "text/plain": [
              "matrix([[0.65856895]])"
            ]
          },
          "metadata": {},
          "execution_count": 34
        }
      ]
    },
    {
      "cell_type": "markdown",
      "source": [
        "Hàm lũy thừa và logarith ma trận: "
      ],
      "metadata": {
        "id": "DMNwQZjmXaJ8"
      }
    },
    {
      "cell_type": "code",
      "source": [
        "linalg.expm(A) "
      ],
      "metadata": {
        "id": "xpEYmPvAXbb3",
        "outputId": "3cf1f000-cff5-424f-9acf-d8ac77e153e3",
        "colab": {
          "base_uri": "https://localhost:8080/"
        }
      },
      "execution_count": 37,
      "outputs": [
        {
          "output_type": "execute_result",
          "data": {
            "text/plain": [
              "array([[1.23201653, 0.27283776],\n",
              "       [0.4713092 , 1.24195605]])"
            ]
          },
          "metadata": {},
          "execution_count": 37
        }
      ]
    },
    {
      "cell_type": "code",
      "source": [
        "linalg.logm(A)"
      ],
      "metadata": {
        "id": "iW5saEqdXcyJ",
        "outputId": "b6d37510-c630-4036-fec1-a8e6e1a1a5e5",
        "colab": {
          "base_uri": "https://localhost:8080/"
        }
      },
      "execution_count": 38,
      "outputs": [
        {
          "output_type": "execute_result",
          "data": {
            "text/plain": [
              "array([[-1.41056784+1.59256381j,  0.48752029-1.19502627j],\n",
              "       [ 0.84215908-2.0643289j , -1.39280741+1.54902885j]])"
            ]
          },
          "metadata": {},
          "execution_count": 38
        }
      ]
    },
    {
      "cell_type": "markdown",
      "source": [
        "2. Tích (nhân) ma trận với ma trận"
      ],
      "metadata": {
        "id": "8cxsQVN9Xgd3"
      }
    },
    {
      "cell_type": "markdown",
      "source": [
        "2.1. Nhân ma trận "
      ],
      "metadata": {
        "id": "YDS2406yXiRv"
      }
    },
    {
      "cell_type": "markdown",
      "source": [
        "2.2. Ma trận khả nghịch "
      ],
      "metadata": {
        "id": "Ga1wdVKRXl81"
      }
    },
    {
      "cell_type": "markdown",
      "source": [
        "2.3. Ma trận hội tụ"
      ],
      "metadata": {
        "id": "VyYkEnrdXnTQ"
      }
    },
    {
      "cell_type": "markdown",
      "source": [
        "Ma trận phân kỳ:"
      ],
      "metadata": {
        "id": "GA7IhyQkXpAM"
      }
    },
    {
      "cell_type": "code",
      "source": [
        " import numpy as np\n",
        " # Tính ma trận A:\n",
        "A = np.array([ [0,1], [1,0]]) \n",
        "print(A) "
      ],
      "metadata": {
        "id": "f0pI1J6fXrRG",
        "outputId": "e772b613-4b77-4585-adf2-9f6a5199bbfa",
        "colab": {
          "base_uri": "https://localhost:8080/"
        }
      },
      "execution_count": 40,
      "outputs": [
        {
          "output_type": "stream",
          "name": "stdout",
          "text": [
            "[[0 1]\n",
            " [1 0]]\n"
          ]
        }
      ]
    },
    {
      "cell_type": "code",
      "source": [
        "temp = A.dot(A) # tính toan lần thứ 1 \n",
        "print(temp) "
      ],
      "metadata": {
        "id": "pgQD0vyiXzuk",
        "outputId": "de193278-74fb-43b2-e5d8-b286b1606722",
        "colab": {
          "base_uri": "https://localhost:8080/"
        }
      },
      "execution_count": 41,
      "outputs": [
        {
          "output_type": "stream",
          "name": "stdout",
          "text": [
            "[[1 0]\n",
            " [0 1]]\n"
          ]
        }
      ]
    },
    {
      "cell_type": "code",
      "source": [
        "k= 6\n",
        "for i in range(k-1):\n",
        " temp = temp.dot(A)\n",
        " print (temp)\n",
        " print('---')"
      ],
      "metadata": {
        "id": "yQbJhX7bX29O",
        "outputId": "4f877c52-ba70-49aa-fa7f-a0496d35ef48",
        "colab": {
          "base_uri": "https://localhost:8080/"
        }
      },
      "execution_count": 42,
      "outputs": [
        {
          "output_type": "stream",
          "name": "stdout",
          "text": [
            "[[0 1]\n",
            " [1 0]]\n",
            "---\n",
            "[[1 0]\n",
            " [0 1]]\n",
            "---\n",
            "[[0 1]\n",
            " [1 0]]\n",
            "---\n",
            "[[1 0]\n",
            " [0 1]]\n",
            "---\n",
            "[[0 1]\n",
            " [1 0]]\n",
            "---\n"
          ]
        }
      ]
    },
    {
      "cell_type": "code",
      "source": [
        "# Tính ma trận B: \n",
        "B = np.array([ [0,-1], [-1,0]]) \n",
        "print(B) "
      ],
      "metadata": {
        "id": "jbISmuA0YGcV",
        "outputId": "4798c88b-69ca-4c18-a6d2-4320a04312b1",
        "colab": {
          "base_uri": "https://localhost:8080/"
        }
      },
      "execution_count": 43,
      "outputs": [
        {
          "output_type": "stream",
          "name": "stdout",
          "text": [
            "[[ 0 -1]\n",
            " [-1  0]]\n"
          ]
        }
      ]
    },
    {
      "cell_type": "code",
      "source": [
        "temp = B.dot(B) # tính toan lần thứ 1\n",
        "print(temp) "
      ],
      "metadata": {
        "id": "1plzPjRwYLxn",
        "outputId": "612429fb-9c08-488c-e50b-29cbdda29276",
        "colab": {
          "base_uri": "https://localhost:8080/"
        }
      },
      "execution_count": 44,
      "outputs": [
        {
          "output_type": "stream",
          "name": "stdout",
          "text": [
            "[[1 0]\n",
            " [0 1]]\n"
          ]
        }
      ]
    },
    {
      "cell_type": "code",
      "source": [
        "k= 5\n",
        "for i in range(k-1):\n",
        " temp = temp.dot(B)\n",
        " print (temp)\n",
        " print('---')"
      ],
      "metadata": {
        "id": "4zRbQBZPYPCj",
        "outputId": "a43010f0-4333-450c-eb70-d19b1d1f340c",
        "colab": {
          "base_uri": "https://localhost:8080/"
        }
      },
      "execution_count": 45,
      "outputs": [
        {
          "output_type": "stream",
          "name": "stdout",
          "text": [
            "[[ 0 -1]\n",
            " [-1  0]]\n",
            "---\n",
            "[[1 0]\n",
            " [0 1]]\n",
            "---\n",
            "[[ 0 -1]\n",
            " [-1  0]]\n",
            "---\n",
            "[[1 0]\n",
            " [0 1]]\n",
            "---\n"
          ]
        }
      ]
    },
    {
      "cell_type": "markdown",
      "source": [
        "Ma trận hội tụ - Convergent matrix:"
      ],
      "metadata": {
        "id": "vtUza62gYSTu"
      }
    },
    {
      "cell_type": "code",
      "source": [
        "C = np.array([ [1, 0, 0], [0, 0.5, 1], [0, 0, 0.5] ]) \n",
        "print(C) "
      ],
      "metadata": {
        "id": "cSTcksQcYS4r",
        "outputId": "28c62fbc-0413-4968-d61b-ae03af95dc1c",
        "colab": {
          "base_uri": "https://localhost:8080/"
        }
      },
      "execution_count": 47,
      "outputs": [
        {
          "output_type": "stream",
          "name": "stdout",
          "text": [
            "[[1.  0.  0. ]\n",
            " [0.  0.5 1. ]\n",
            " [0.  0.  0.5]]\n"
          ]
        }
      ]
    },
    {
      "cell_type": "code",
      "source": [
        "temp = C.dot(C) # tính toan lần thứ 1\n",
        "print(temp) "
      ],
      "metadata": {
        "id": "twqLEBigYYpl",
        "outputId": "200bc575-ebd8-4621-c37c-3089b27b4d1e",
        "colab": {
          "base_uri": "https://localhost:8080/"
        }
      },
      "execution_count": 48,
      "outputs": [
        {
          "output_type": "stream",
          "name": "stdout",
          "text": [
            "[[1.   0.   0.  ]\n",
            " [0.   0.25 1.  ]\n",
            " [0.   0.   0.25]]\n"
          ]
        }
      ]
    },
    {
      "cell_type": "code",
      "source": [
        "k= 1000\n",
        "for i in range(k-1):\n",
        "  temp = temp.dot(C)\n",
        "print(temp)"
      ],
      "metadata": {
        "id": "uHS2v0nYYbCb",
        "outputId": "523d2140-f627-4c4c-cbbe-9fdda810d8d6",
        "colab": {
          "base_uri": "https://localhost:8080/"
        }
      },
      "execution_count": 49,
      "outputs": [
        {
          "output_type": "stream",
          "name": "stdout",
          "text": [
            "[[1.00000000e+000 0.00000000e+000 0.00000000e+000]\n",
            " [0.00000000e+000 4.66631809e-302 9.34196882e-299]\n",
            " [0.00000000e+000 0.00000000e+000 4.66631809e-302]]\n"
          ]
        }
      ]
    }
  ]
}