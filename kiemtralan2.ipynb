{
  "nbformat": 4,
  "nbformat_minor": 0,
  "metadata": {
    "colab": {
      "provenance": [],
      "collapsed_sections": [],
      "authorship_tag": "ABX9TyO9kXQLmB/PyWHpDGSlvpPT",
      "include_colab_link": true
    },
    "kernelspec": {
      "name": "python3",
      "display_name": "Python 3"
    },
    "language_info": {
      "name": "python"
    }
  },
  "cells": [
    {
      "cell_type": "markdown",
      "metadata": {
        "id": "view-in-github",
        "colab_type": "text"
      },
      "source": [
        "<a href=\"https://colab.research.google.com/github/ysneef/Daisotuyentinhvaungdung/blob/main/kiemtralan2.ipynb\" target=\"_parent\"><img src=\"https://colab.research.google.com/assets/colab-badge.svg\" alt=\"Open In Colab\"/></a>"
      ]
    },
    {
      "cell_type": "markdown",
      "source": [
        "cau1:"
      ],
      "metadata": {
        "id": "tE3eTzhHqdrB"
      }
    },
    {
      "cell_type": "markdown",
      "source": [
        "a"
      ],
      "metadata": {
        "id": "7nc8RsPVuIAC"
      }
    },
    {
      "cell_type": "code",
      "execution_count": 5,
      "metadata": {
        "colab": {
          "base_uri": "https://localhost:8080/"
        },
        "id": "NcgvnjOHqVft",
        "outputId": "cd02cb68-13d2-4b7a-dce0-07cbcb7475e9"
      },
      "outputs": [
        {
          "output_type": "stream",
          "name": "stdout",
          "text": [
            "5*x + 3*y - 10*z + 5\n"
          ]
        }
      ],
      "source": [
        "from sympy import *\n",
        "x, y, z = symbols('x y z')\n",
        "MP = Matrix([[x, y, z, 1],[-2, 5, 1, 1],[1, 0, 1, 1],[-1, 0, 0, 1]])\n",
        "print(MP.det())"
      ]
    },
    {
      "cell_type": "markdown",
      "source": [
        "b"
      ],
      "metadata": {
        "id": "6wHJpwYnuHV8"
      }
    },
    {
      "cell_type": "code",
      "source": [
        "import sympy as sp\n",
        "M = sp.Matrix([[1, 5, 2, 1], [5, 1, 1, 1], [4, 6, 3, 1], [3, 3, 6, 1]])\n",
        "A = 1/6*M.det()\n",
        "print(A)"
      ],
      "metadata": {
        "colab": {
          "base_uri": "https://localhost:8080/"
        },
        "id": "iZrqKKDOuJJ0",
        "outputId": "1efe7aea-41fd-42df-f8d8-132d23914c89"
      },
      "execution_count": 6,
      "outputs": [
        {
          "output_type": "stream",
          "name": "stdout",
          "text": [
            "-12.0000000000000\n"
          ]
        }
      ]
    },
    {
      "cell_type": "markdown",
      "source": [
        "cau 2"
      ],
      "metadata": {
        "id": "IX9y3Bravyn6"
      }
    },
    {
      "cell_type": "code",
      "source": [
        "from sympy import *\n",
        "import numpy as np \n",
        "X = np.array([[1,2],[1,3],[1,4],[1,5],[1,6]]) \n",
        "Y = np.array([[1],[3],[3],[5],[7]])\n",
        "XT = np.array([[1,1,1,1,1],[2,3,4,5,6]])\n",
        "A1 = np.linalg.inv(XT.dot(X))\n",
        "A2 = XT.dot(Y)\n",
        "A = A1.dot(A2) \n",
        "print(A)"
      ],
      "metadata": {
        "colab": {
          "base_uri": "https://localhost:8080/"
        },
        "id": "rfdplzPhvznx",
        "outputId": "c4d54dba-865c-4e33-eb2a-c1f6b8b7a19e"
      },
      "execution_count": 8,
      "outputs": [
        {
          "output_type": "stream",
          "name": "stdout",
          "text": [
            "[[-1.8]\n",
            " [ 1.4]]\n"
          ]
        }
      ]
    },
    {
      "cell_type": "markdown",
      "source": [
        "cau 3"
      ],
      "metadata": {
        "id": "3YM6W-GJx5kL"
      }
    },
    {
      "cell_type": "code",
      "source": [
        "import numpy as np\n",
        "a = np.array([5,10,15])\n",
        "b = np.array([2,4,6])\n",
        "tich = np.inner(a,b)\n",
        "print(tich)"
      ],
      "metadata": {
        "colab": {
          "base_uri": "https://localhost:8080/"
        },
        "id": "ukxAZAbVx6VB",
        "outputId": "fbd404eb-c37f-48bc-8a18-cd2fe895ab22"
      },
      "execution_count": 10,
      "outputs": [
        {
          "output_type": "stream",
          "name": "stdout",
          "text": [
            "140\n"
          ]
        }
      ]
    }
  ]
}